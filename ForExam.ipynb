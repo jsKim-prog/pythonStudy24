{
  "nbformat": 4,
  "nbformat_minor": 0,
  "metadata": {
    "colab": {
      "provenance": [],
      "authorship_tag": "ABX9TyMtPWF8spINjp5Ef/YSgW3u",
      "include_colab_link": true
    },
    "kernelspec": {
      "name": "python3",
      "display_name": "Python 3"
    },
    "language_info": {
      "name": "python"
    }
  },
  "cells": [
    {
      "cell_type": "markdown",
      "metadata": {
        "id": "view-in-github",
        "colab_type": "text"
      },
      "source": [
        "<a href=\"https://colab.research.google.com/github/jsKim-prog/pythonStudy24/blob/master/ForExam.ipynb\" target=\"_parent\"><img src=\"https://colab.research.google.com/assets/colab-badge.svg\" alt=\"Open In Colab\"/></a>"
      ]
    },
    {
      "cell_type": "markdown",
      "source": [
        "## for문 연습\n",
        "* for문은 while문과 같은 반복문으로 차이점은 max가 있나 없나이다.\n",
        "* for문은 구구단과 같이 9라는 max 값이 있을 때 사용\n",
        "* while은 max가 없지만 종료되는 시점을 만들어 제공(강제종료 ctrl+c)\n",
        "\n",
        "```\n",
        "for 변수 in 리스트 | 튜플 | 문자열 :\n",
        "    실행문1\n",
        "    실행문2\n",
        "```\n",
        "* 자바의 향상 for문 / forEach 문과 같다.(리스트 | 튜플 | 문자열-> 배열처리)"
      ],
      "metadata": {
        "id": "CULM0dRlBvm7"
      }
    },
    {
      "cell_type": "code",
      "execution_count": 1,
      "metadata": {
        "colab": {
          "base_uri": "https://localhost:8080/"
        },
        "id": "jb6kGJWlBqJ2",
        "outputId": "df97452c-c2eb-4acc-fb54-842a99ee686a"
      },
      "outputs": [
        {
          "output_type": "stream",
          "name": "stdout",
          "text": [
            "one\n",
            "two\n",
            "three\n"
          ]
        }
      ],
      "source": [
        "# 전형적인 for문\n",
        "test_list = ['one', 'two', 'three']\n",
        "for i in test_list:\n",
        "    print(i)"
      ]
    },
    {
      "cell_type": "code",
      "source": [
        "# 다양한 for문 사용\n",
        "a = [(1, 2), (3, 4), (5, 6)]\n",
        "for (first, last) in a:\n",
        "    print(first+last)"
      ],
      "metadata": {
        "colab": {
          "base_uri": "https://localhost:8080/"
        },
        "id": "RiznwQqxErYD",
        "outputId": "d8756c42-5bb8-42ee-82f5-ef93121b75e5"
      },
      "execution_count": 2,
      "outputs": [
        {
          "output_type": "stream",
          "name": "stdout",
          "text": [
            "3\n",
            "7\n",
            "11\n"
          ]
        }
      ]
    },
    {
      "cell_type": "code",
      "source": [
        "# 총 5명의 학생이 시험을 보았는데\n",
        "# 시험 점수가 60점 이상이면 합격이고 그렇지 않으면 불합격이다.\n",
        "\n",
        "marks = [90, 25, 67, 45, 80] #학생별 시험점수, 5명\n",
        "number = 0                     #학생출력시 번호 지정\n",
        "for mark in marks :         # 리스트에 있는 객체를 앞에서부터 1개씩 가져와 mark 변수에 넣음\n",
        "    number = number+1\n",
        "    if mark >=60:\n",
        "        print(\"%d 번 학생은 합격입니다.\"% number)\n",
        "    else:\n",
        "        print(\"%d 번 학생은 불합격입니다.\"% number)"
      ],
      "metadata": {
        "colab": {
          "base_uri": "https://localhost:8080/"
        },
        "id": "rTaB8tH4FL75",
        "outputId": "557b5c50-3157-412e-b76c-52505b23372a"
      },
      "execution_count": 3,
      "outputs": [
        {
          "output_type": "stream",
          "name": "stdout",
          "text": [
            "1 번 학생은 합격입니다.\n",
            "2 번 학생은 불합격입니다.\n",
            "3 번 학생은 합격입니다.\n",
            "4 번 학생은 불합격입니다.\n",
            "5 번 학생은 합격입니다.\n"
          ]
        }
      ]
    },
    {
      "cell_type": "code",
      "source": [
        "# for + continue\n",
        "marks = [90, 25, 67, 45, 80] #학생별 시험점수, 5명\n",
        "number = 0                   #학생출력시 번호 지정\n",
        "for mark in marks:              #리스트 반복문\n",
        "    number = number + 1\n",
        "    if mark < 60 : # 점수가 < 60\n",
        "        continue   # 위로 올라감\n",
        "    print(\"%d 번 학생 축하합니다. 합격입니다.\"% number)"
      ],
      "metadata": {
        "colab": {
          "base_uri": "https://localhost:8080/"
        },
        "id": "r4iBEOGUI1kU",
        "outputId": "4a4b1c68-a3f3-4d3d-e035-00cd8fe45530"
      },
      "execution_count": 5,
      "outputs": [
        {
          "output_type": "stream",
          "name": "stdout",
          "text": [
            "1 번 학생 축하합니다. 합격입니다.\n",
            "3 번 학생 축하합니다. 합격입니다.\n",
            "5 번 학생 축하합니다. 합격입니다.\n"
          ]
        }
      ]
    },
    {
      "cell_type": "code",
      "source": [
        "# for문과 같이 자주쓰는 range()\n",
        "a = range(10)   # 0부터 10 미만 숫자를 포함하는 객체를 만들어줌\n",
        "a               # 0 ~ 9까지 값을 가지고 있음"
      ],
      "metadata": {
        "colab": {
          "base_uri": "https://localhost:8080/"
        },
        "id": "FtaAKBo6KUvb",
        "outputId": "81d07d37-bc49-4327-d167-1901e05eac37"
      },
      "execution_count": 6,
      "outputs": [
        {
          "output_type": "execute_result",
          "data": {
            "text/plain": [
              "range(0, 10)"
            ]
          },
          "metadata": {},
          "execution_count": 6
        }
      ]
    },
    {
      "cell_type": "code",
      "source": [
        "for num in a:\n",
        "    print(num)"
      ],
      "metadata": {
        "colab": {
          "base_uri": "https://localhost:8080/"
        },
        "id": "PaqBYlZAKlKp",
        "outputId": "ff0d797a-2e6c-42b4-b61f-8a27ee3d14fb"
      },
      "execution_count": 7,
      "outputs": [
        {
          "output_type": "stream",
          "name": "stdout",
          "text": [
            "0\n",
            "1\n",
            "2\n",
            "3\n",
            "4\n",
            "5\n",
            "6\n",
            "7\n",
            "8\n",
            "9\n"
          ]
        }
      ]
    },
    {
      "cell_type": "code",
      "source": [
        "a = range(1, 11) # (시작값, 끝값: 끝숫자는 포함되지 않는다.)\n",
        "a                # 1~10까지 값을 가지고 있음"
      ],
      "metadata": {
        "colab": {
          "base_uri": "https://localhost:8080/"
        },
        "id": "nz9m3hNbK2Ec",
        "outputId": "82c6b498-1a2b-470f-8c20-3f3c23c48b52"
      },
      "execution_count": 9,
      "outputs": [
        {
          "output_type": "execute_result",
          "data": {
            "text/plain": [
              "range(1, 11)"
            ]
          },
          "metadata": {},
          "execution_count": 9
        }
      ]
    },
    {
      "cell_type": "code",
      "source": [
        "for i in range(1,11) :\n",
        "    print(i)"
      ],
      "metadata": {
        "colab": {
          "base_uri": "https://localhost:8080/"
        },
        "id": "l7hM9eFwLKbF",
        "outputId": "a78ba178-e1ed-433e-deec-39cf4d4a2807"
      },
      "execution_count": 10,
      "outputs": [
        {
          "output_type": "stream",
          "name": "stdout",
          "text": [
            "1\n",
            "2\n",
            "3\n",
            "4\n",
            "5\n",
            "6\n",
            "7\n",
            "8\n",
            "9\n",
            "10\n"
          ]
        }
      ]
    },
    {
      "cell_type": "code",
      "source": [
        "marks = [90, 25, 67, 45, 80]\n",
        "for number in range(len(marks)) :\n",
        "    if marks[number] <60:\n",
        "        continue\n",
        "    print(\"%d 번 학생 축하합니다. 합격입니다.\"% (number+1))"
      ],
      "metadata": {
        "colab": {
          "base_uri": "https://localhost:8080/"
        },
        "id": "H9MwI_vRLlGS",
        "outputId": "bfc0a807-92f0-4433-c23a-58c9b52cd0d1"
      },
      "execution_count": 11,
      "outputs": [
        {
          "output_type": "stream",
          "name": "stdout",
          "text": [
            "1 번 학생 축하합니다. 합격입니다.\n",
            "3 번 학생 축하합니다. 합격입니다.\n",
            "5 번 학생 축하합니다. 합격입니다.\n"
          ]
        }
      ]
    },
    {
      "cell_type": "code",
      "source": [
        "# 구구단을 만들어 보자 2 * 1 = 2 ~ 9 * 9 = 81\n",
        "# 다중 for문\n",
        "\n",
        "for i in range(2, 10) :     #2단~9단\n",
        "    for j in range(1, 10) : # 단마다 곱해지는 값 1~9\n",
        "        print(i*j, end=\" \") #각 단마다 곱하고 출력\n",
        "                            # print end 파라미터는 기본 엔터를 하지 않고 \" \"로\n",
        "    print('')               # 단이 끝나면 엔터 효과"
      ],
      "metadata": {
        "colab": {
          "base_uri": "https://localhost:8080/"
        },
        "id": "0SW8SavEMBSc",
        "outputId": "ed9060f3-84a4-4195-9efa-5a600e55fe43"
      },
      "execution_count": 12,
      "outputs": [
        {
          "output_type": "stream",
          "name": "stdout",
          "text": [
            "2 4 6 8 10 12 14 16 18 \n",
            "3 6 9 12 15 18 21 24 27 \n",
            "4 8 12 16 20 24 28 32 36 \n",
            "5 10 15 20 25 30 35 40 45 \n",
            "6 12 18 24 30 36 42 48 54 \n",
            "7 14 21 28 35 42 49 56 63 \n",
            "8 16 24 32 40 48 56 64 72 \n",
            "9 18 27 36 45 54 63 72 81 \n"
          ]
        }
      ]
    },
    {
      "cell_type": "code",
      "source": [
        "# 리스트 컴프리헨션 => 결과를 리스트로 저장\n",
        "\n",
        "# 리스트 컴프리헨션을 사용하지 않는 방법\n",
        "a = [1, 2, 3, 4]        # 입력 리스트값\n",
        "result = []             # 출력 리스트값\n",
        "for num in a:           # 입력 리스트값을 1개씩 가져와 num에 넣음\n",
        "    result.append(num*3)# 출력 리스트값에 3을 곱해 추가(.append)\n",
        "print(result)           # 반복 후에 출력"
      ],
      "metadata": {
        "colab": {
          "base_uri": "https://localhost:8080/"
        },
        "id": "r5Y5e_EpNUZY",
        "outputId": "dec04860-3e0b-4bd7-9296-edd751bc5787"
      },
      "execution_count": 13,
      "outputs": [
        {
          "output_type": "stream",
          "name": "stdout",
          "text": [
            "[3, 6, 9, 12]\n"
          ]
        }
      ]
    },
    {
      "cell_type": "code",
      "source": [
        "# 리스트 컴프리헨션을 사용하는 방법\n",
        "# : 없으면 앞이 결과!\n",
        "a = [1, 2, 3, 4]\n",
        "result = [num*3 for num in a] # 변수 = [실행문 for 변수 in 배열] 리스트화\n",
        "print(result)"
      ],
      "metadata": {
        "colab": {
          "base_uri": "https://localhost:8080/"
        },
        "id": "2sWQnfCiOWzV",
        "outputId": "2d10915d-6d1f-426f-c489-5f30643a3446"
      },
      "execution_count": 14,
      "outputs": [
        {
          "output_type": "stream",
          "name": "stdout",
          "text": [
            "[3, 6, 9, 12]\n"
          ]
        }
      ]
    },
    {
      "cell_type": "code",
      "source": [
        "# 짝수만 3을 곱해서 리스트에 담고 싶다.\n",
        "a = [1,2,3,4]\n",
        "result = [num*3 for num in a if num % 2 == 0]\n",
        "#결과배열 =  실행문 for      if 조건\n",
        "print(result)"
      ],
      "metadata": {
        "colab": {
          "base_uri": "https://localhost:8080/"
        },
        "id": "3MSGJyCcPUA6",
        "outputId": "391faec7-d637-46bf-ff39-e31799dd579a"
      },
      "execution_count": 15,
      "outputs": [
        {
          "output_type": "stream",
          "name": "stdout",
          "text": [
            "[6, 12]\n"
          ]
        }
      ]
    }
  ]
}