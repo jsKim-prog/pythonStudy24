{
  "nbformat": 4,
  "nbformat_minor": 0,
  "metadata": {
    "colab": {
      "provenance": [],
      "authorship_tag": "ABX9TyNQJHSePYMO1tpCWdClRu6N",
      "include_colab_link": true
    },
    "kernelspec": {
      "name": "python3",
      "display_name": "Python 3"
    },
    "language_info": {
      "name": "python"
    }
  },
  "cells": [
    {
      "cell_type": "markdown",
      "metadata": {
        "id": "view-in-github",
        "colab_type": "text"
      },
      "source": [
        "<a href=\"https://colab.research.google.com/github/jsKim-prog/pythonStudy24/blob/master/FunctionExam.ipynb\" target=\"_parent\"><img src=\"https://colab.research.google.com/assets/colab-badge.svg\" alt=\"Open In Colab\"/></a>"
      ]
    },
    {
      "cell_type": "markdown",
      "source": [
        "## 함수(function)\n",
        "* 함수는 단일 동작을 수행하는 블럭을 말한다.\n",
        "* 자바에서는 {} 블럭단위로 수행하는데 파이썬은 인터프리터로 줄단위 수행\n",
        "* 프로그램의 메모리 영역은 크게 3가지로 나뉘어짐\n",
        "  - 스택영역 : 변수에 기본타입이나 참조타입을 연결\n",
        "  - 힙영역 : 객체를 생성해서 주소를 가지고 있음\n",
        "  - 메서드영역 : 동작들을 보관하고 있다가 호출되면 매개값(파라미터)과 처리 후 리턴을 제공(함수/메서드를 보관)\n",
        "* 함수를 사용하는 이유 : 반복적인 코드 발생을 최소화하기 위해서(CRUD)  "
      ],
      "metadata": {
        "id": "2G98BRcl8QIm"
      }
    },
    {
      "cell_type": "code",
      "execution_count": 8,
      "metadata": {
        "colab": {
          "base_uri": "https://localhost:8080/"
        },
        "id": "e58jkSya8HLL",
        "outputId": "c20c7c66-9d88-4c07-9eea-c3f0b815735d"
      },
      "outputs": [
        {
          "output_type": "stream",
          "name": "stdout",
          "text": [
            "add() 메서드 종료\n",
            "김기원\n"
          ]
        }
      ],
      "source": [
        "# 파이썬 함수의 구조\n",
        "# def (define : 정의) 함수 생성\n",
        "# def 함수이름(매개변수) :\n",
        "#   실행문1\n",
        "#   실행문2\n",
        "#   ...\n",
        "\n",
        "def add(a, b):  # add 라는 함수를 정의(생성), 매개값은 2개를 받음\n",
        "    print(\"add() 메서드 종료\")\n",
        "    return a+b  # 매객값으로 받은 2개의 변수를 더하여 리턴\n",
        "    # # 리턴 없는 경우 print\n",
        "    # add() 종료\n",
        "\n",
        "print(add(\"김\", \"기원\"))"
      ]
    },
    {
      "cell_type": "code",
      "source": [
        "# *args : 매개값이 몇개인지 모를 때(1 이상~)\n",
        "def add_many(*args): #*args 매개값이 1개 이상\n",
        "    result = 0       #결과를 저장하는 변수\n",
        "    for i in args:   #*args는 리스트로 저장이 됨\n",
        "        result += i  #result = result+i\n",
        "    return result    # 결과 리턴\n",
        "print(add_many(1,2,3,4,5,6,7,8,9))\n",
        "# args는 관례(프로그래머들끼리의 약속)"
      ],
      "metadata": {
        "colab": {
          "base_uri": "https://localhost:8080/"
        },
        "id": "4EaEB1V3FVtr",
        "outputId": "7ef84335-1456-4ca6-9212-e32dae5dae55"
      },
      "execution_count": 9,
      "outputs": [
        {
          "output_type": "stream",
          "name": "stdout",
          "text": [
            "45\n"
          ]
        }
      ]
    },
    {
      "cell_type": "code",
      "source": [
        "test = add_many(9,8,7,6)\n",
        "print(test)"
      ],
      "metadata": {
        "colab": {
          "base_uri": "https://localhost:8080/"
        },
        "id": "fukax1d9Lb4K",
        "outputId": "115e4e5e-b05b-407d-843b-cc0678f19164"
      },
      "execution_count": 11,
      "outputs": [
        {
          "output_type": "stream",
          "name": "stdout",
          "text": [
            "30\n"
          ]
        }
      ]
    },
    {
      "cell_type": "code",
      "source": [
        "def add_multi(choice, *args):\n",
        "    if choice ==\"add\":\n",
        "        result = 0\n",
        "        for i in args:\n",
        "            result += i\n",
        "    elif choice == \"mul\":\n",
        "        result = 1\n",
        "        for i in args:\n",
        "            result *= i\n",
        "    return result\n",
        "\n",
        "print(add_multi(\"mul\", 25, 4))"
      ],
      "metadata": {
        "colab": {
          "base_uri": "https://localhost:8080/"
        },
        "id": "sqTlCghTL995",
        "outputId": "a4c07420-afdb-4b2e-c628-c77f3169d36f"
      },
      "execution_count": 12,
      "outputs": [
        {
          "output_type": "stream",
          "name": "stdout",
          "text": [
            "100\n"
          ]
        }
      ]
    },
    {
      "cell_type": "code",
      "source": [
        "result = add_multi(\"add\", 1,2,3,4,5)\n",
        "print(result)"
      ],
      "metadata": {
        "colab": {
          "base_uri": "https://localhost:8080/"
        },
        "id": "AoKTygPDM_H1",
        "outputId": "54474468-aaa8-4476-d158-5f985c21a138"
      },
      "execution_count": 13,
      "outputs": [
        {
          "output_type": "stream",
          "name": "stdout",
          "text": [
            "15\n"
          ]
        }
      ]
    },
    {
      "cell_type": "code",
      "source": [
        "result = add_multi(\"mul\", 3,4,5)\n",
        "print(result)"
      ],
      "metadata": {
        "colab": {
          "base_uri": "https://localhost:8080/"
        },
        "id": "yq_CCzt1NPjT",
        "outputId": "f9f84692-0ff2-4a29-804c-bf6cc95d4ffe"
      },
      "execution_count": 14,
      "outputs": [
        {
          "output_type": "stream",
          "name": "stdout",
          "text": [
            "60\n"
          ]
        }
      ]
    },
    {
      "cell_type": "code",
      "source": [
        "result = add_multi(\"add\", \"김\", \"기\", \"원\")"
      ],
      "metadata": {
        "colab": {
          "base_uri": "https://localhost:8080/",
          "height": 276
        },
        "id": "Gf1UID8QOaKM",
        "outputId": "81bbcd3a-5436-42a0-85aa-6323f2ce7c4c"
      },
      "execution_count": 15,
      "outputs": [
        {
          "output_type": "error",
          "ename": "TypeError",
          "evalue": "unsupported operand type(s) for +=: 'int' and 'str'",
          "traceback": [
            "\u001b[0;31m---------------------------------------------------------------------------\u001b[0m",
            "\u001b[0;31mTypeError\u001b[0m                                 Traceback (most recent call last)",
            "\u001b[0;32m<ipython-input-15-850ae361a091>\u001b[0m in \u001b[0;36m<cell line: 1>\u001b[0;34m()\u001b[0m\n\u001b[0;32m----> 1\u001b[0;31m \u001b[0mresult\u001b[0m \u001b[0;34m=\u001b[0m \u001b[0madd_multi\u001b[0m\u001b[0;34m(\u001b[0m\u001b[0;34m\"add\"\u001b[0m\u001b[0;34m,\u001b[0m \u001b[0;34m\"김\"\u001b[0m\u001b[0;34m,\u001b[0m \u001b[0;34m\"기\"\u001b[0m\u001b[0;34m,\u001b[0m \u001b[0;34m\"원\"\u001b[0m\u001b[0;34m)\u001b[0m\u001b[0;34m\u001b[0m\u001b[0;34m\u001b[0m\u001b[0m\n\u001b[0m",
            "\u001b[0;32m<ipython-input-12-62d8a571f798>\u001b[0m in \u001b[0;36madd_multi\u001b[0;34m(choice, *args)\u001b[0m\n\u001b[1;32m      3\u001b[0m         \u001b[0mresult\u001b[0m \u001b[0;34m=\u001b[0m \u001b[0;36m0\u001b[0m\u001b[0;34m\u001b[0m\u001b[0;34m\u001b[0m\u001b[0m\n\u001b[1;32m      4\u001b[0m         \u001b[0;32mfor\u001b[0m \u001b[0mi\u001b[0m \u001b[0;32min\u001b[0m \u001b[0margs\u001b[0m\u001b[0;34m:\u001b[0m\u001b[0;34m\u001b[0m\u001b[0;34m\u001b[0m\u001b[0m\n\u001b[0;32m----> 5\u001b[0;31m             \u001b[0mresult\u001b[0m \u001b[0;34m+=\u001b[0m \u001b[0mi\u001b[0m\u001b[0;34m\u001b[0m\u001b[0;34m\u001b[0m\u001b[0m\n\u001b[0m\u001b[1;32m      6\u001b[0m     \u001b[0;32melif\u001b[0m \u001b[0mchoice\u001b[0m \u001b[0;34m==\u001b[0m \u001b[0;34m\"mul\"\u001b[0m\u001b[0;34m:\u001b[0m\u001b[0;34m\u001b[0m\u001b[0;34m\u001b[0m\u001b[0m\n\u001b[1;32m      7\u001b[0m         \u001b[0mresult\u001b[0m \u001b[0;34m=\u001b[0m \u001b[0;36m1\u001b[0m\u001b[0;34m\u001b[0m\u001b[0;34m\u001b[0m\u001b[0m\n",
            "\u001b[0;31mTypeError\u001b[0m: unsupported operand type(s) for +=: 'int' and 'str'"
          ]
        }
      ]
    },
    {
      "cell_type": "code",
      "source": [
        "# **kwargs : 키워드 매개변수(딕셔너리)\n",
        "\n",
        "def print_kwargs(**kwargs):\n",
        "    print(kwargs)\n",
        "\n",
        "print_kwargs(kkw=312)"
      ],
      "metadata": {
        "colab": {
          "base_uri": "https://localhost:8080/"
        },
        "id": "QSAQejnIOw-9",
        "outputId": "a2e6cf12-1819-48eb-e6a3-685b46b88168"
      },
      "execution_count": 16,
      "outputs": [
        {
          "output_type": "stream",
          "name": "stdout",
          "text": [
            "{'kkw': 312}\n"
          ]
        }
      ]
    },
    {
      "cell_type": "code",
      "source": [
        "print_kwargs(id=\"kjs\", pw=\"********\", phone=5476, email=\"jscode77@gmail.com\")"
      ],
      "metadata": {
        "colab": {
          "base_uri": "https://localhost:8080/"
        },
        "id": "mEgoEewKPbXM",
        "outputId": "5c6d51cd-1dd7-421c-f266-8dff466918c1"
      },
      "execution_count": 18,
      "outputs": [
        {
          "output_type": "stream",
          "name": "stdout",
          "text": [
            "{'id': 'kjs', 'pw': '********', 'phone': 5476, 'email': 'jscode77@gmail.com'}\n"
          ]
        }
      ]
    },
    {
      "cell_type": "code",
      "source": [
        "# 만약 리턴 값이 2개???\n",
        "def add_and_mul(a, b):\n",
        "    return a+b, a*b, a-b\n",
        "\n",
        "result = add_and_mul(3,4)\n",
        "a,b,c = add_and_mul(3,4)\n",
        "print(result)\n",
        "print(a)\n",
        "print(b)\n",
        "print(c)"
      ],
      "metadata": {
        "colab": {
          "base_uri": "https://localhost:8080/"
        },
        "id": "Hl3GbzbXP7Ty",
        "outputId": "d99a2b0e-1d65-42df-a96c-e78d734fcb4b"
      },
      "execution_count": 22,
      "outputs": [
        {
          "output_type": "stream",
          "name": "stdout",
          "text": [
            "(7, 12, -1)\n",
            "7\n",
            "12\n",
            "-1\n"
          ]
        }
      ]
    },
    {
      "cell_type": "code",
      "source": [
        "def say_myself(name, old, man=True):\n",
        "    print(\"나의 이름은 %s 입니다.\" % name)\n",
        "    print(\"나의 나이는 %d 세 입니다.\" % old)\n",
        "    if man :\n",
        "        print(\"남자입니다.\")\n",
        "    else:\n",
        "        print(\"여자입니다.\")\n",
        "\n",
        "say_myself(\"김기원\", 31)"
      ],
      "metadata": {
        "colab": {
          "base_uri": "https://localhost:8080/"
        },
        "id": "mwd8yUsmRPmi",
        "outputId": "80b55efb-7cbd-4815-e953-8b2826974472"
      },
      "execution_count": 23,
      "outputs": [
        {
          "output_type": "stream",
          "name": "stdout",
          "text": [
            "나의 이름은 김기원 입니다.\n",
            "나의 나이는 31 세 입니다.\n",
            "남자입니다.\n"
          ]
        }
      ]
    },
    {
      "cell_type": "code",
      "source": [
        "say_myself(old=32, name='김지선', man=False)"
      ],
      "metadata": {
        "colab": {
          "base_uri": "https://localhost:8080/"
        },
        "id": "Wfy0BkYNR8LM",
        "outputId": "8f49e612-ce99-420b-abdc-1f624d8de3e1"
      },
      "execution_count": 24,
      "outputs": [
        {
          "output_type": "stream",
          "name": "stdout",
          "text": [
            "나의 이름은 김지선 입니다.\n",
            "나의 나이는 32 세 입니다.\n",
            "여자입니다.\n"
          ]
        }
      ]
    },
    {
      "cell_type": "code",
      "source": [
        "# 람다식 : 인터페이스 형태의 실행문이 1개인 코드\n",
        "# 자바에서 람다식은 -> 사용하고 자바스크립트 =>\n",
        "# 파이썬의 람다식은\n",
        "# 변수(함수명) = lambda 매개변수 :  실행문\n",
        "\n",
        "add = lambda a,b : a+b\n",
        "result = add(3,4)\n",
        "print(result)"
      ],
      "metadata": {
        "colab": {
          "base_uri": "https://localhost:8080/"
        },
        "id": "m6pA-KzGSeAJ",
        "outputId": "061c0154-6f73-40b0-adaf-f1019896401e"
      },
      "execution_count": 25,
      "outputs": [
        {
          "output_type": "stream",
          "name": "stdout",
          "text": [
            "7\n"
          ]
        }
      ]
    },
    {
      "cell_type": "code",
      "source": [
        "# 미션\n",
        "# 자판기 코드를 함수로 리빌드 진행 시작!"
      ],
      "metadata": {
        "id": "ZOAd7JFZT_o0"
      },
      "execution_count": null,
      "outputs": []
    }
  ]
}