{
  "nbformat": 4,
  "nbformat_minor": 0,
  "metadata": {
    "colab": {
      "provenance": [],
      "authorship_tag": "ABX9TyPfaeGe5R0Rw5yJTPRi2Poy",
      "include_colab_link": true
    },
    "kernelspec": {
      "name": "python3",
      "display_name": "Python 3"
    },
    "language_info": {
      "name": "python"
    }
  },
  "cells": [
    {
      "cell_type": "markdown",
      "metadata": {
        "id": "view-in-github",
        "colab_type": "text"
      },
      "source": [
        "<a href=\"https://colab.research.google.com/github/jsKim-prog/pythonStudy24/blob/master/FileExam.ipynb\" target=\"_parent\"><img src=\"https://colab.research.google.com/assets/colab-badge.svg\" alt=\"Open In Colab\"/></a>"
      ]
    },
    {
      "cell_type": "markdown",
      "source": [
        "## 파일 읽고 쓰기 연습\n",
        "* 파이썬은 실무에서 엑셀파일을 .csv 파일로 저장하여 불러와 데이터 분석 등을 한다.\n",
        "* .csv는 엑셀에서 표에 있는 값을 텍스트로 다른 이름으로 저장하는 기법\n",
        "\n",
        "* 현재 코랩에서 실습을 진행하면 구글에서 제공하는 vm을 사용함\n",
        " - 리눅스 커널로 되어 있어 content 디렉토리에 저장됨\n",
        " - C:\\ 로 되어 있는 것은 윈도우 커널로 파이참에서 실습을 함"
      ],
      "metadata": {
        "id": "xzh9uFnDTW7C"
      }
    },
    {
      "cell_type": "code",
      "execution_count": 2,
      "metadata": {
        "id": "HUW54iG3TS6b"
      },
      "outputs": [],
      "source": [
        "# 파일생성하기 실습\n",
        "f = open(\"새파일.txt\", 'w') #opn() : 파일을 연다.\n",
        "for i in range(1, 11):      # 1~10까지 숫자범위 만들어 i에 넣음\n",
        "    data = \"%d번째 줄입니다. \\n\" % i\n",
        "    f.write(data)           # data 값을 파일에 기록\n",
        "f.close()                   #close() : 연 파일을 닫는다. -> 같은 파일 열었을 때 읽기전용으로 열림!!\n",
        "\n",
        "# 파일의 권한 부여\n",
        "# 'w' : 쓰기 가능모드\n",
        "# 'r' : 읽기만 가능모드\n",
        "# 'a' : 추가모드(파일 마지막에 새로운 내용 추가 - append)"
      ]
    },
    {
      "cell_type": "code",
      "source": [
        "# 저장된 파일내용 가져와 출력하기\n",
        "f = open(\"새파일.txt\", 'r')\n",
        "line = f.readline() # 첫 줄의 내용 가져와 line 변수에 넣음\n",
        "print(line)\n",
        "f.close()"
      ],
      "metadata": {
        "colab": {
          "base_uri": "https://localhost:8080/"
        },
        "id": "7G4Y5yrRXUFR",
        "outputId": "7ba6cdf6-f975-4d7a-9abf-a281a1c5ef63"
      },
      "execution_count": 3,
      "outputs": [
        {
          "output_type": "stream",
          "name": "stdout",
          "text": [
            "1번째 줄입니다. \n",
            "\n"
          ]
        }
      ]
    },
    {
      "cell_type": "code",
      "source": [
        "# 무한루프 while 로 가져오기\n",
        "f = open(\"새파일.txt\", 'r')\n",
        "while True:             # 무한루프 동작\n",
        "    line = f.readline() # 한 줄 씩 읽어\n",
        "    if not line : break # 마지막 줄인지 확인 : 중단\n",
        "    print(line)         # 출력\n",
        "f.close()               # 파일닫기"
      ],
      "metadata": {
        "colab": {
          "base_uri": "https://localhost:8080/"
        },
        "id": "KtUmgqhZYtZP",
        "outputId": "178cde5b-8534-4092-8626-ed3e78b13a98"
      },
      "execution_count": 4,
      "outputs": [
        {
          "output_type": "stream",
          "name": "stdout",
          "text": [
            "1번째 줄입니다. \n",
            "\n",
            "2번째 줄입니다. \n",
            "\n",
            "3번째 줄입니다. \n",
            "\n",
            "4번째 줄입니다. \n",
            "\n",
            "5번째 줄입니다. \n",
            "\n",
            "6번째 줄입니다. \n",
            "\n",
            "7번째 줄입니다. \n",
            "\n",
            "8번째 줄입니다. \n",
            "\n",
            "9번째 줄입니다. \n",
            "\n",
            "10번째 줄입니다. \n",
            "\n"
          ]
        }
      ]
    },
    {
      "cell_type": "code",
      "source": [
        "# .readlines()\n",
        "f = open(\"새파일.txt\", 'r')\n",
        "lines = f.readlines()       # 새파일 텍스트 문자열을 리스트로 만듦\n",
        "for line in lines :\n",
        "    print(line.strip())     # 리스트 내용 출력\n",
        "    # .strip() : 줄 끝의 줄바꿈 문자를 제거함\n",
        "f.close()"
      ],
      "metadata": {
        "colab": {
          "base_uri": "https://localhost:8080/"
        },
        "id": "TV___ps8Zloz",
        "outputId": "c500e49b-30c2-4687-e828-b34581247580"
      },
      "execution_count": 8,
      "outputs": [
        {
          "output_type": "stream",
          "name": "stdout",
          "text": [
            "1번째 줄입니다.\n",
            "2번째 줄입니다.\n",
            "3번째 줄입니다.\n",
            "4번째 줄입니다.\n",
            "5번째 줄입니다.\n",
            "6번째 줄입니다.\n",
            "7번째 줄입니다.\n",
            "8번째 줄입니다.\n",
            "9번째 줄입니다.\n",
            "10번째 줄입니다.\n"
          ]
        }
      ]
    },
    {
      "cell_type": "code",
      "source": [
        "# read() 함수 사용\n",
        "f = open(\"새파일.txt\", 'r')\n",
        "data = f.read()     # .read() 는 텍스트 안에 있는 모든 값을 문자열로 가져옴\n",
        "print(data)\n",
        "f.close()"
      ],
      "metadata": {
        "colab": {
          "base_uri": "https://localhost:8080/"
        },
        "id": "6O9VmBA_aRqA",
        "outputId": "aebfcd2d-6ee1-4414-bd18-b200edd98a62"
      },
      "execution_count": 9,
      "outputs": [
        {
          "output_type": "stream",
          "name": "stdout",
          "text": [
            "1번째 줄입니다. \n",
            "2번째 줄입니다. \n",
            "3번째 줄입니다. \n",
            "4번째 줄입니다. \n",
            "5번째 줄입니다. \n",
            "6번째 줄입니다. \n",
            "7번째 줄입니다. \n",
            "8번째 줄입니다. \n",
            "9번째 줄입니다. \n",
            "10번째 줄입니다. \n",
            "\n"
          ]
        }
      ]
    },
    {
      "cell_type": "code",
      "source": [
        "# 파일에 새로운 내용 추가해보기\n",
        "\n",
        "# 'w' 의 특징은 파일을 열 때 이미 존재하는 파일이면 전의 내용이 사라짐\n",
        "\n",
        "f = open(\"새파일.txt\", 'w') #opn() : 파일을 연다.\n",
        "for i in range(1, 11):      # 1~10까지 숫자범위 만들어 i에 넣음\n",
        "    data = \"%d번째 행입니다. \\n\" % i\n",
        "    f.write(data)           # data 값을 파일에 기록\n",
        "f.close()"
      ],
      "metadata": {
        "id": "pc9ifsZRbZLo"
      },
      "execution_count": 10,
      "outputs": []
    },
    {
      "cell_type": "code",
      "source": [
        "# 'w'를 'a'로 변경하던지 파일명을 다른 이름으로 저장해야 한다.\n",
        "f = open(\"새파일.txt\", 'a') # a : 추가용\n",
        "for i in range(11, 21) :\n",
        "    data = \"%d번째 추가된 줄입니다. \\n\" % i\n",
        "    f.write(data)\n",
        "f.close()"
      ],
      "metadata": {
        "id": "6JDIDFlJcSOW"
      },
      "execution_count": 11,
      "outputs": []
    },
    {
      "cell_type": "code",
      "source": [
        "# with() 함수 사용해보기\n",
        "# 파일을 열면(open) 항상 닫기(close) 해야 함\n",
        "\n",
        "f = open(\"foo.txt\", 'w')\n",
        "f.write(\"Life is too short, you need python\")\n",
        "f.close()"
      ],
      "metadata": {
        "id": "178JLFKKdHUe"
      },
      "execution_count": 12,
      "outputs": []
    },
    {
      "cell_type": "code",
      "source": [
        "with open(\"foo.txt\", 'w') as f:\n",
        "    f.write(\"Life is too short, you need python\")\n",
        "    #f.close 자동으로 닫아줌"
      ],
      "metadata": {
        "id": "uXFZHdnxdtlH"
      },
      "execution_count": 13,
      "outputs": []
    }
  ]
}