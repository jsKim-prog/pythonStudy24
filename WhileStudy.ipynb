{
  "nbformat": 4,
  "nbformat_minor": 0,
  "metadata": {
    "colab": {
      "provenance": [],
      "authorship_tag": "ABX9TyOdVXRBMTkd2b+65B36v3Ak",
      "include_colab_link": true
    },
    "kernelspec": {
      "name": "python3",
      "display_name": "Python 3"
    },
    "language_info": {
      "name": "python"
    }
  },
  "cells": [
    {
      "cell_type": "markdown",
      "metadata": {
        "id": "view-in-github",
        "colab_type": "text"
      },
      "source": [
        "<a href=\"https://colab.research.google.com/github/jsKim-prog/pythonStudy24/blob/master/WhileStudy.ipynb\" target=\"_parent\"><img src=\"https://colab.research.google.com/assets/colab-badge.svg\" alt=\"Open In Colab\"/></a>"
      ]
    },
    {
      "cell_type": "markdown",
      "source": [
        "## while 문\n",
        "* while문은 문장을 반복해서 수행해야 되는 경우 활용(반복문)\n",
        "* 반복문은 여러 데이터를 처리해야 하는 경우 사용\n",
        "* if문에서 성적처리를 할 때 1명에 대한 데이터를 처리하지만 입력을 여러명 받아 더 큰 프로그램을 만들 수 있다.\n",
        "* 반복문은 while문과 for문으로 활용되는데, while문은 max가 없는 반복문일 경우 사용되고 for문은 max가 있는 경우 사용됨\n",
        "\n",
        "```\n",
        "while 조건문 :\n",
        "   실행문 1\n",
        "   실행문 2\n",
        "   실행문 3\n",
        "```\n",
        "\n"
      ],
      "metadata": {
        "id": "g0diCYAdfx8d"
      }
    },
    {
      "cell_type": "code",
      "execution_count": null,
      "metadata": {
        "colab": {
          "base_uri": "https://localhost:8080/"
        },
        "id": "VsWhBRrafbG6",
        "outputId": "4ad07dbf-dba5-42da-a823-ff858699c978"
      },
      "outputs": [
        {
          "output_type": "stream",
          "name": "stdout",
          "text": [
            "나무를 1 번 찍었습니다.\n",
            "아직 더 찍어보시지~~~\n",
            "나무를 2 번 찍었습니다.\n",
            "아직 더 찍어보시지~~~\n",
            "나무를 3 번 찍었습니다.\n",
            "아직 더 찍어보시지~~~\n",
            "나무를 4 번 찍었습니다.\n",
            "아직 더 찍어보시지~~~\n",
            "나무를 5 번 찍었습니다.\n",
            "아직 더 찍어보시지~~~\n",
            "나무를 6 번 찍었습니다.\n",
            "에에엥~~~???\n",
            "나무를 7 번 찍었습니다.\n",
            "에에엥~~~???\n",
            "나무를 8 번 찍었습니다.\n",
            "에에엥~~~???\n",
            "나무를 9 번 찍었습니다.\n",
            "에에엥~~~???\n",
            "나무를 10 번 찍었습니다.\n",
            "나무 넘어갑니다!!!!\n"
          ]
        }
      ],
      "source": [
        "# 열번찍어 안넘어가는 나무 없다.\n",
        "\n",
        "treeHit = 0\n",
        "\n",
        "while treeHit < 10 : # 조건 : treeHit가 10보다 작으면\n",
        "    treeHit += 1 # 반복중에 1씩 증가\n",
        "    print(\"나무를 %d 번 찍었습니다.\" % treeHit)\n",
        "\n",
        "    if treeHit == 10: # 나무 타격 회수 10번인지 판단\n",
        "        print(\"나무 넘어갑니다!!!!\")\n",
        "    elif treeHit >=6:\n",
        "        print(\"에에엥~~~???\")\n",
        "    else:\n",
        "        print(\"아직 더 찍어보시지~~~\")\n"
      ]
    },
    {
      "cell_type": "code",
      "source": [
        "# 콘솔에서 프로그램 만들어 보기\n",
        "prompt = \"\"\"\n",
        "1. 학생가입\n",
        "2. 성적입력\n",
        "3. 성적출력\n",
        "4. Quit\n",
        "\n",
        "Enter Number >>>\n",
        "\"\"\"\n",
        "number = 0                  # 키보드로 전달되는 변수 초기값\n",
        "while number !=4 :          # 4가 아닐때까지 반복문 -> 4 입력시 while문 종료\n",
        "    print(prompt)           # 4 가 아닐 때 prompt 출력\n",
        "    number = int(input())   # 반복 중 입력받을 프롬프트 비교값\n",
        "\n"
      ],
      "metadata": {
        "colab": {
          "base_uri": "https://localhost:8080/"
        },
        "id": "4fWPAMTiiXRT",
        "outputId": "c4666e22-3f56-476e-f268-f34d7b5d3cae"
      },
      "execution_count": null,
      "outputs": [
        {
          "name": "stdout",
          "output_type": "stream",
          "text": [
            "\n",
            "1. 학생가입\n",
            "2. 성적입력\n",
            "3. 성적출력\n",
            "4. Quit\n",
            "\n",
            "Enter Number >>> \n",
            "\n",
            "1\n",
            "\n",
            "1. 학생가입\n",
            "2. 성적입력\n",
            "3. 성적출력\n",
            "4. Quit\n",
            "\n",
            "Enter Number >>> \n",
            "\n",
            "2\n",
            "\n",
            "1. 학생가입\n",
            "2. 성적입력\n",
            "3. 성적출력\n",
            "4. Quit\n",
            "\n",
            "Enter Number >>> \n",
            "\n",
            "3\n",
            "\n",
            "1. 학생가입\n",
            "2. 성적입력\n",
            "3. 성적출력\n",
            "4. Quit\n",
            "\n",
            "Enter Number >>> \n",
            "\n",
            "5\n",
            "\n",
            "1. 학생가입\n",
            "2. 성적입력\n",
            "3. 성적출력\n",
            "4. Quit\n",
            "\n",
            "Enter Number >>> \n",
            "\n",
            "4\n"
          ]
        }
      ]
    },
    {
      "cell_type": "code",
      "source": [
        "# 커피 자판기 프로그램\n",
        "coffee = 10 #커피는 총 10잔이 준비되어 있음\n",
        "money = 300 #현재 입금된 금액은 300원\n",
        "\n",
        "while money  :\n",
        "    print(\"돈을 받았으니 커피를 줍니다.\")\n",
        "    coffee = coffee - 1 # 1잔씩 소모\n",
        "    print(\"남은 커피 수량 : %d 잔\" % coffee)\n",
        "\n",
        "    if coffee == 0:\n",
        "        print(\"커피가 다 떨어졌습니다. 판매를 중지합니다.\")\n",
        "        break #가장 마지막에 쓰여진 반복문 정지\n",
        "    else:\n",
        "        print(input(\"커피 드시고 싶으면 5000원을 넣으세요\"))"
      ],
      "metadata": {
        "colab": {
          "base_uri": "https://localhost:8080/"
        },
        "id": "SXZW9N1ekvYh",
        "outputId": "8ae52e3b-7693-4a62-cc30-b2393ea72673"
      },
      "execution_count": null,
      "outputs": [
        {
          "output_type": "stream",
          "name": "stdout",
          "text": [
            "돈을 받았으니 커피를 줍니다.\n",
            "남은 커피 수량 : 9 잔\n",
            "커피 드시고 싶으면 5000원을 넣으세요0\n",
            "0\n",
            "돈을 받았으니 커피를 줍니다.\n",
            "남은 커피 수량 : 8 잔\n",
            "커피 드시고 싶으면 5000원을 넣으세요0\n",
            "0\n",
            "돈을 받았으니 커피를 줍니다.\n",
            "남은 커피 수량 : 7 잔\n",
            "커피 드시고 싶으면 5000원을 넣으세요200\n",
            "200\n",
            "돈을 받았으니 커피를 줍니다.\n",
            "남은 커피 수량 : 6 잔\n",
            "커피 드시고 싶으면 5000원을 넣으세요200\n",
            "200\n",
            "돈을 받았으니 커피를 줍니다.\n",
            "남은 커피 수량 : 5 잔\n",
            "커피 드시고 싶으면 5000원을 넣으세요100\n",
            "100\n",
            "돈을 받았으니 커피를 줍니다.\n",
            "남은 커피 수량 : 4 잔\n",
            "커피 드시고 싶으면 5000원을 넣으세요100\n",
            "100\n",
            "돈을 받았으니 커피를 줍니다.\n",
            "남은 커피 수량 : 3 잔\n",
            "커피 드시고 싶으면 5000원을 넣으세요100\n",
            "100\n",
            "돈을 받았으니 커피를 줍니다.\n",
            "남은 커피 수량 : 2 잔\n",
            "커피 드시고 싶으면 5000원을 넣으세요100\n",
            "100\n",
            "돈을 받았으니 커피를 줍니다.\n",
            "남은 커피 수량 : 1 잔\n",
            "커피 드시고 싶으면 5000원을 넣으세요100\n",
            "100\n",
            "돈을 받았으니 커피를 줍니다.\n",
            "남은 커피 수량 : 0 잔\n",
            "커피가 다 떨어졌습니다. 판매를 중지합니다.\n"
          ]
        }
      ]
    },
    {
      "cell_type": "markdown",
      "source": [
        "## 미션\n",
        "* 관리자가 커피 가격과 커피명을 정하고 개수를 입력한다.\n",
        "* 소비자가 커피를 구매하는데 잔돈이 나와야 함\n",
        "* 판매 종료 후 관리자가 커피 판매한 총액을 파악해야 함"
      ],
      "metadata": {
        "id": "WCCTlSmuovh0"
      }
    },
    {
      "cell_type": "code",
      "source": [
        "# 첫화면은 사용자/관리자 공통사용 (1. 커피 구매/2. 자판기 관리)\n",
        "# 관리자인지 파악-> 아이디/패스워드\n",
        "\n",
        "\n",
        "\n",
        "admin = {'id':'admin', 'pw': 'admin'} #관리자 계정\n",
        "products = [] #상품들 넣을 리스트\n",
        "\n",
        "\n",
        "intro =\"\"\"\n",
        "==============\n",
        "Coffee Time\n",
        "==============\n",
        "1. 커피구매\n",
        "2. 자판기관리\n",
        "3. Exit\n",
        "==============\n",
        "\"\"\"\n",
        "promUser = f\"\"\"\n",
        "======================\n",
        "번호    종류     금액\n",
        "======================\n",
        "\"\"\"\n",
        "promAdmin = \"\"\"\n",
        "1. 상품관리\n",
        "2. 재고관리\n",
        "3. 매상관리\n",
        "4. Quit\n",
        "\"\"\"\n",
        "promSave = \"\"\"\n",
        "저장하시겠습니까?\n",
        "Yes : 1 / No : 2 / 종료 : 0\n",
        "\"\"\"\n",
        "\n",
        "\n",
        "def valAdmin(id, pw):\n",
        "    result = True if id == admin.get('id') and pw == admin.get('pw') else False\n",
        "    return result\n",
        "\n",
        "class adminProm:\n",
        "    def insertProd(name, price, stock):\n",
        "        coffee = {\n",
        "            'name': name,\n",
        "            'price' : price,\n",
        "            'stock' : stock\n",
        "        }\n",
        "        products.append(coffee)\n",
        "\n",
        "\n",
        "class userProm:\n",
        "    def userCoffeeSave(num): #커피 리스트에서 선택 커피 정보 받아오기\n",
        "        userCoffee = products[num-1]\n",
        "        #재고수량 검증\n",
        "        if userCoffee.get('stock') <=0 : print(\"재고가 없습니다. 다른 커피를 선택하세요.\")\n",
        "        else : print(\"%s 커피를 선택하셨습니다.\" % userCoffee.get('name'))\n",
        "        return userCoffee\n",
        "\n",
        "    #돈 받기\n",
        "    def selCoffee(insertMoney, userCoffee):\n",
        "        total = int(userCoffee.get('price'))\n",
        "        stockCnt = int(userCoffee.get('stock'))\n",
        "        thisMoney = 0\n",
        "        if insertMoney > total:\n",
        "            print(\"%s 가 나옵니다~~ 즐거운 시간 되세요.\"% userCoffee.get('name'))\n",
        "            print(\"거스름돈 받아가세요 : %d 원\" % insertMoney-total)\n",
        "             #수량변경할 리스트 찾기\n",
        "            setIndex = products.index(userCoffee)\n",
        "            setcoffee = products[setIndex]\n",
        "            setcoffee['stock'] = stockCnt - 1\n",
        "            return True\n",
        "        elif insertMoney == total :\n",
        "           print(\"%s 가 나옵니다~~ 즐거운 시간 되세요.\"% userCoffee.get('name'))\n",
        "            #수량변경할 리스트 찾기\n",
        "           setIndex = products.index(userCoffee)\n",
        "           setcoffee = products[setIndex]\n",
        "           setcoffee['stock'] = stockCnt - 1\n",
        "           return True\n",
        "        else:\n",
        "            thisMoney += insertMoney\n",
        "            print(\"투입금액 : %d 원\" % thisMoney)\n",
        "            print(\"추가 투입해야 할 금액 : %d 원\" % total-thisMoney)\n",
        "            return False\n",
        "\n",
        "\n",
        "promEnd = \"\"\"\n",
        "입력을 중지하시겠습니까?\n",
        "Yes : 1 / No : 2\n",
        "\"\"\""
      ],
      "metadata": {
        "id": "0zkp7hkCo3hB"
      },
      "execution_count": null,
      "outputs": []
    },
    {
      "cell_type": "code",
      "source": [
        "\n",
        "start = True\n",
        "while start:\n",
        "    print(intro)\n",
        "    startNum = int(input(\"Enter Number>>> \"))\n",
        "    if startNum == 3:\n",
        "        print(\"자판기를 종료합니다. 안녕히 가세요.\")\n",
        "        break\n",
        "    elif startNum == 1:\n",
        "        print(promUser)\n",
        "        if len(products)<= 0 :\n",
        "            print(\"등록된 상품이 없습니다. 다음에 다시 찾아주세요.\")\n",
        "        else:\n",
        "            for product in products:\n",
        "                print(\"%d      %s      %d\"% (products.index(product)+1,product.get('name'), product.get('price')))\n",
        "            userNum = int(input(\"Enter Number>>> \"))\n",
        "            selectCoffee= userProm.userCoffeeSave(userNum)\n",
        "            while userProm.selCoffee(inputMoney, selectCoffee):\n",
        "                inputMoney = int(input(\"돈을 투입하세요.: \"))\n",
        "\n",
        "    elif startNum == 2 :\n",
        "        inputID = input(\"아이디 : \")\n",
        "        inputPW = input(\"패스워드 : \")\n",
        "        if valAdmin(inputID, inputPW):\n",
        "            print(promAdmin)\n",
        "            inputNum = int(input(\"Enter Number>>> \"))\n",
        "            match inputNum:\n",
        "                case 1 :\n",
        "                    prodStart = True\n",
        "                    while prodStart:\n",
        "                        name = input(\"상품명 : \")\n",
        "                        price = int(input(\"금액 : \"))\n",
        "                        stock = int(input(\"수량 : \"))\n",
        "                        print(promSave)\n",
        "                        selnum = int(input(\"Enter Number>>> \"))\n",
        "                        if selnum==0:\n",
        "                            prodStart=False\n",
        "                            break\n",
        "                        elif selnum==1:\n",
        "                            adminProm.insertProd(name, price, stock)\n",
        "                            print(\"상품이 저장되었습니다.\")\n",
        "                            print(promEnd)\n",
        "                            num1_1 = int(input(\"Enter Number>>> \"))\n",
        "                            if num1_1 == 1:\n",
        "                                prodStart=False\n",
        "                                break\n",
        "                        elif selnum==2:\n",
        "                           pass\n",
        "                        else:  print(\"잘못된 입력입니다. 다시 입력해 주세요.\")\n",
        "                case 2 : print(\"재고관리\")\n",
        "                case 3 : print(\"매상관리\")\n",
        "                case 4 : break\n",
        "                case _ : print(\"잘못된 입력입니다. 다시 입력해 주세요.\")\n",
        "\n",
        "        else:\n",
        "            print(\"계정확인 필요\")\n",
        "    else:\n",
        "        print(\"잘못된 입력입니다. 다시 입력해 주세요.\")\n"
      ],
      "metadata": {
        "colab": {
          "base_uri": "https://localhost:8080/",
          "height": 606
        },
        "id": "MOiEoFMCAeAY",
        "outputId": "355b7074-f7ac-4dfe-cebe-288d7587f579"
      },
      "execution_count": null,
      "outputs": [
        {
          "name": "stdout",
          "output_type": "stream",
          "text": [
            "\n",
            "==============\n",
            "Coffee Time\n",
            "==============\n",
            "1. 커피구매\n",
            "2. 자판기관리\n",
            "3. Exit\n",
            "==============\n",
            "\n",
            "Enter Number>>> 1\n",
            "\n",
            "======================\n",
            "번호    종류     금액\n",
            "======================\n",
            "\n",
            "1      밀크커피      500\n",
            "1      밀크커피      500\n",
            "3      아메리카노      300\n",
            "4      밀크커피      300\n",
            "1      밀크커피      500\n",
            "Enter Number>>> 1\n"
          ]
        },
        {
          "output_type": "error",
          "ename": "NameError",
          "evalue": "name 'userProm' is not defined",
          "traceback": [
            "\u001b[0;31m---------------------------------------------------------------------------\u001b[0m",
            "\u001b[0;31mNameError\u001b[0m                                 Traceback (most recent call last)",
            "\u001b[0;32m<ipython-input-23-46c7c399a644>\u001b[0m in \u001b[0;36m<cell line: 2>\u001b[0;34m()\u001b[0m\n\u001b[1;32m     14\u001b[0m                 \u001b[0mprint\u001b[0m\u001b[0;34m(\u001b[0m\u001b[0;34m\"%d      %s      %d\"\u001b[0m\u001b[0;34m%\u001b[0m \u001b[0;34m(\u001b[0m\u001b[0mproducts\u001b[0m\u001b[0;34m.\u001b[0m\u001b[0mindex\u001b[0m\u001b[0;34m(\u001b[0m\u001b[0mproduct\u001b[0m\u001b[0;34m)\u001b[0m\u001b[0;34m+\u001b[0m\u001b[0;36m1\u001b[0m\u001b[0;34m,\u001b[0m\u001b[0mproduct\u001b[0m\u001b[0;34m.\u001b[0m\u001b[0mget\u001b[0m\u001b[0;34m(\u001b[0m\u001b[0;34m'name'\u001b[0m\u001b[0;34m)\u001b[0m\u001b[0;34m,\u001b[0m \u001b[0mproduct\u001b[0m\u001b[0;34m.\u001b[0m\u001b[0mget\u001b[0m\u001b[0;34m(\u001b[0m\u001b[0;34m'price'\u001b[0m\u001b[0;34m)\u001b[0m\u001b[0;34m)\u001b[0m\u001b[0;34m)\u001b[0m\u001b[0;34m\u001b[0m\u001b[0;34m\u001b[0m\u001b[0m\n\u001b[1;32m     15\u001b[0m             \u001b[0muserNum\u001b[0m \u001b[0;34m=\u001b[0m \u001b[0mint\u001b[0m\u001b[0;34m(\u001b[0m\u001b[0minput\u001b[0m\u001b[0;34m(\u001b[0m\u001b[0;34m\"Enter Number>>> \"\u001b[0m\u001b[0;34m)\u001b[0m\u001b[0;34m)\u001b[0m\u001b[0;34m\u001b[0m\u001b[0;34m\u001b[0m\u001b[0m\n\u001b[0;32m---> 16\u001b[0;31m             \u001b[0mselectCoffee\u001b[0m\u001b[0;34m=\u001b[0m \u001b[0muserProm\u001b[0m\u001b[0;34m.\u001b[0m\u001b[0muserCoffeeSave\u001b[0m\u001b[0;34m(\u001b[0m\u001b[0muserNum\u001b[0m\u001b[0;34m)\u001b[0m\u001b[0;34m\u001b[0m\u001b[0;34m\u001b[0m\u001b[0m\n\u001b[0m\u001b[1;32m     17\u001b[0m             \u001b[0;32mwhile\u001b[0m \u001b[0muserProm\u001b[0m\u001b[0;34m.\u001b[0m\u001b[0mselCoffee\u001b[0m\u001b[0;34m(\u001b[0m\u001b[0minputMoney\u001b[0m\u001b[0;34m,\u001b[0m \u001b[0mselectCoffee\u001b[0m\u001b[0;34m)\u001b[0m\u001b[0;34m:\u001b[0m\u001b[0;34m\u001b[0m\u001b[0;34m\u001b[0m\u001b[0m\n\u001b[1;32m     18\u001b[0m                 \u001b[0minputMoney\u001b[0m \u001b[0;34m=\u001b[0m \u001b[0mint\u001b[0m\u001b[0;34m(\u001b[0m\u001b[0minput\u001b[0m\u001b[0;34m(\u001b[0m\u001b[0;34m\"돈을 투입하세요.: \"\u001b[0m\u001b[0;34m)\u001b[0m\u001b[0;34m)\u001b[0m\u001b[0;34m\u001b[0m\u001b[0;34m\u001b[0m\u001b[0m\n",
            "\u001b[0;31mNameError\u001b[0m: name 'userProm' is not defined"
          ]
        }
      ]
    }
  ]
}