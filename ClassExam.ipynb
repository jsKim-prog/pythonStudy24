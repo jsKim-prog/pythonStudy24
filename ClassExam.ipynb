{
  "nbformat": 4,
  "nbformat_minor": 0,
  "metadata": {
    "colab": {
      "provenance": [],
      "authorship_tag": "ABX9TyMsiX12MuolUiGseC+spbq9",
      "include_colab_link": true
    },
    "kernelspec": {
      "name": "python3",
      "display_name": "Python 3"
    },
    "language_info": {
      "name": "python"
    }
  },
  "cells": [
    {
      "cell_type": "markdown",
      "metadata": {
        "id": "view-in-github",
        "colab_type": "text"
      },
      "source": [
        "<a href=\"https://colab.research.google.com/github/jsKim-prog/pythonStudy24/blob/master/ClassExam.ipynb\" target=\"_parent\"><img src=\"https://colab.research.google.com/assets/colab-badge.svg\" alt=\"Open In Colab\"/></a>"
      ]
    },
    {
      "cell_type": "markdown",
      "source": [
        "## 클래스\n",
        "* 클래스는 객체지향 언어의 필수로 각각의 객체를 담당한다.\n",
        "* 만약 쇼핑몰 프로젝트를 만든다고 하면\n",
        "  - 회원용.py -> 동작(메서드) C, R, U, D, Other\n",
        "  - 아이템.py -> 동작(메서드) C, R, U, D, Other\n",
        "  - 게시판.py -> 동작(메서드) C, R, U, D, Other\n",
        "  - 장바구니.py -> 동작(메서드) C, R, U, D, Other\n",
        "  - 등이 main.py 와 연동되게 설정한다.\n"
      ],
      "metadata": {
        "id": "ZtjKb1amik82"
      }
    },
    {
      "cell_type": "code",
      "execution_count": 1,
      "metadata": {
        "colab": {
          "base_uri": "https://localhost:8080/"
        },
        "id": "1hQzHORTib3v",
        "outputId": "7341ee53-4723-419b-bbe2-7f3991046b21"
      },
      "outputs": [
        {
          "output_type": "stream",
          "name": "stdout",
          "text": [
            "4\n"
          ]
        }
      ],
      "source": [
        "# 계산기 처리용 클래스\n",
        "result = 0          # 결과값 처리용 변수\n",
        "\n",
        "def add(num) :\n",
        "    global result   # 전역변수 사용\n",
        "    result += num   # 메서드에 입력값을 더함\n",
        "    return result   # 결과를 보냄\n",
        "\n",
        "print(add(4))       # 위에 만든 메서드에 4를 입력하고 리턴값을 출력"
      ]
    },
    {
      "cell_type": "code",
      "source": [
        "print(add(9))"
      ],
      "metadata": {
        "colab": {
          "base_uri": "https://localhost:8080/"
        },
        "id": "rgjomwbXk5sv",
        "outputId": "550dc2b2-f941-4854-87b3-2de185d2a253"
      },
      "execution_count": 2,
      "outputs": [
        {
          "output_type": "stream",
          "name": "stdout",
          "text": [
            "13\n"
          ]
        }
      ]
    },
    {
      "cell_type": "code",
      "source": [
        "# 만일 한 프로그램에서 2대의 계산기가 필요한 상황이면?\n",
        "\n",
        "result1 = 0\n",
        "result2 = 0\n",
        "\n",
        "def add1(num) :\n",
        "    global result1\n",
        "    result1 += num\n",
        "    return result1\n",
        "\n",
        "def add2(num) :\n",
        "    global result2\n",
        "    result2 += num\n",
        "    return result2"
      ],
      "metadata": {
        "id": "rgJKVV48k8gH"
      },
      "execution_count": null,
      "outputs": []
    },
    {
      "cell_type": "code",
      "source": [
        "# 클래스를 이용한 계산기\n",
        "# self == this(java)\n",
        "\n",
        "class Calculator :          # 객체생성용(생성자용 메서드, 일반메서드)\n",
        "    def __init__(self) :    # 생성자(객체 생성시 0순위로 처리됨)\n",
        "        self.result  = 0    # 객체 자신의 result 변수를 만드로 0 값을 넣음\n",
        "\n",
        "    def add(self, num) :    # 객체용 메서드\n",
        "        self.result += num  # 생성자에 있는 변수에 num을 누적합 저장\n",
        "        return self.result  # 결과를 리턴"
      ],
      "metadata": {
        "id": "g6l5JMb1mBrs"
      },
      "execution_count": 3,
      "outputs": []
    },
    {
      "cell_type": "code",
      "source": [
        "# 객체를 생성하여 변수에 연결(java : Calculator cal1 = new Calculator())\n",
        "cal1 = Calculator()     # 객체 1\n",
        "cal2 = Calculator()     # 객체 2\n",
        "\n",
        "print(cal1.add(3))      # 1번 계산기\n"
      ],
      "metadata": {
        "colab": {
          "base_uri": "https://localhost:8080/"
        },
        "id": "iXiC4ALmnXAR",
        "outputId": "81c005c9-f0fc-4d20-e6fd-15824566d1a4"
      },
      "execution_count": 4,
      "outputs": [
        {
          "output_type": "stream",
          "name": "stdout",
          "text": [
            "3\n"
          ]
        }
      ]
    },
    {
      "cell_type": "code",
      "source": [
        "print(cal2.add(9))      # 2번 계산기"
      ],
      "metadata": {
        "colab": {
          "base_uri": "https://localhost:8080/"
        },
        "id": "hM9z_GA2n2tU",
        "outputId": "3e7adddd-7cb1-4efb-a29a-7479a8194c67"
      },
      "execution_count": 5,
      "outputs": [
        {
          "output_type": "stream",
          "name": "stdout",
          "text": [
            "9\n"
          ]
        }
      ]
    },
    {
      "cell_type": "code",
      "source": [
        "print(cal1.add(9))      # 1번 계산기"
      ],
      "metadata": {
        "colab": {
          "base_uri": "https://localhost:8080/"
        },
        "id": "vV9JcqsEn698",
        "outputId": "2539df0e-9c95-45ee-f337-23654fb7cfb0"
      },
      "execution_count": 6,
      "outputs": [
        {
          "output_type": "stream",
          "name": "stdout",
          "text": [
            "12\n"
          ]
        }
      ]
    },
    {
      "cell_type": "code",
      "source": [
        "print(cal2.add(10))      # 2번 계산기"
      ],
      "metadata": {
        "colab": {
          "base_uri": "https://localhost:8080/"
        },
        "id": "SYPdZG4ToFJv",
        "outputId": "4f950ec8-fcbd-40e0-a471-08435b2a9944"
      },
      "execution_count": 7,
      "outputs": [
        {
          "output_type": "stream",
          "name": "stdout",
          "text": [
            "19\n"
          ]
        }
      ]
    },
    {
      "cell_type": "code",
      "source": [
        "# 클래스를 활용한 사칙연산 계산기 만들기\n",
        "\n",
        "class FourCal :\n",
        "    # pass        # 아무기능 없이 동작\n",
        "\n",
        "    # 필드 : 객체마다 가지고 있어야 할 데이터들(dto, vo)\n",
        "    first = 0\n",
        "    second = 0\n",
        "\n",
        "    # 생성자 : 객체를 생성할 때 필요한 무언가??(생성자의 이름은 __init__)\n",
        "    def __init__(self, first, second) :\n",
        "        self.first = first\n",
        "        self.second = second\n",
        "\n",
        "    # 값 교체시 사용 메서드\n",
        "    def setdata(self, first, second):    # 메서드 선언(self는 필수)\n",
        "        self.first = first              # this.first = first\n",
        "        self.second = second            # this.second = second\n",
        "\n",
        "    def add(self) :\n",
        "        result = self.first + self.second\n",
        "        return result\n",
        "\n",
        "    def sub(self) :\n",
        "        result = self.first - self.second\n",
        "        return result\n",
        "\n",
        "    def mul(self) :\n",
        "        result = self.first* self.second\n",
        "        return result\n",
        "\n",
        "    def div(self) :\n",
        "        result = self.first / self.second\n",
        "        return result\n"
      ],
      "metadata": {
        "id": "js1EaUqBp0wP"
      },
      "execution_count": 23,
      "outputs": []
    },
    {
      "cell_type": "code",
      "source": [
        "a = FourCal()   # a변수에 객체가 연결됨\n",
        "a.setdata(4,2)  # a 변수를 self로 처리함"
      ],
      "metadata": {
        "id": "xc92tA7FqFrZ"
      },
      "execution_count": 13,
      "outputs": []
    },
    {
      "cell_type": "code",
      "source": [
        "b = FourCal()\n",
        "FourCal.setdata(b,4,2)"
      ],
      "metadata": {
        "id": "7drrCnweuYUG"
      },
      "execution_count": 14,
      "outputs": []
    },
    {
      "cell_type": "code",
      "source": [
        "print(a.first)"
      ],
      "metadata": {
        "colab": {
          "base_uri": "https://localhost:8080/"
        },
        "id": "bSHpwa6Su3wy",
        "outputId": "c5145e47-eef5-4d1c-c6b1-bb49a61e5b21"
      },
      "execution_count": 15,
      "outputs": [
        {
          "output_type": "stream",
          "name": "stdout",
          "text": [
            "4\n"
          ]
        }
      ]
    },
    {
      "cell_type": "code",
      "source": [
        "print(b.second)"
      ],
      "metadata": {
        "colab": {
          "base_uri": "https://localhost:8080/"
        },
        "id": "pGHY97Reu-hG",
        "outputId": "c199d5a4-0575-441c-a33a-853fb4cf7892"
      },
      "execution_count": 16,
      "outputs": [
        {
          "output_type": "stream",
          "name": "stdout",
          "text": [
            "2\n"
          ]
        }
      ]
    },
    {
      "cell_type": "code",
      "source": [
        "c = FourCal()\n",
        "c.setdata(5, 5)\n",
        "c.mul()"
      ],
      "metadata": {
        "colab": {
          "base_uri": "https://localhost:8080/"
        },
        "id": "5ZsSBSxfvBo4",
        "outputId": "053cd164-7be6-43d2-bd0f-a51f4e94a4b4"
      },
      "execution_count": 20,
      "outputs": [
        {
          "output_type": "execute_result",
          "data": {
            "text/plain": [
              "25"
            ]
          },
          "metadata": {},
          "execution_count": 20
        }
      ]
    },
    {
      "cell_type": "code",
      "source": [
        "d = FourCal(6, 8)   # 생성자 사용\n",
        "d.add()"
      ],
      "metadata": {
        "colab": {
          "base_uri": "https://localhost:8080/"
        },
        "id": "ka8eSAYvwo4H",
        "outputId": "b0a260d3-1762-48e0-813b-1e903e4febfc"
      },
      "execution_count": 25,
      "outputs": [
        {
          "output_type": "execute_result",
          "data": {
            "text/plain": [
              "14"
            ]
          },
          "metadata": {},
          "execution_count": 25
        }
      ]
    },
    {
      "cell_type": "code",
      "source": [
        "# 상속기능 : 부모가 만든 객체를 보완, 추가하는 기능\n",
        "\n",
        "class MoreFourCal(FourCal) :    # 객체 생성시(부모객체)\n",
        "    def pow(self) :\n",
        "        result = self.first ** self.second\n",
        "        return result\n",
        "\n",
        "    # 오버라이딩 : 부모가 만든 메서드를 변경하여 사용함\n",
        "    def div(self):\n",
        "        if self.second == 0 :\n",
        "            return 0\n",
        "        else :\n",
        "            return self.first/self.second"
      ],
      "metadata": {
        "id": "Jw3fqOney09q"
      },
      "execution_count": 33,
      "outputs": []
    },
    {
      "cell_type": "code",
      "source": [
        "e = MoreFourCal(4, 4)\n",
        "e.pow()"
      ],
      "metadata": {
        "colab": {
          "base_uri": "https://localhost:8080/"
        },
        "id": "o9_t86VBzftD",
        "outputId": "66c2dd41-11fa-429e-cc6e-87c98e005769"
      },
      "execution_count": 31,
      "outputs": [
        {
          "output_type": "execute_result",
          "data": {
            "text/plain": [
              "256"
            ]
          },
          "metadata": {},
          "execution_count": 31
        }
      ]
    },
    {
      "cell_type": "code",
      "source": [
        "f = MoreFourCal(4,0)\n",
        "f.div() # ZeroDivisionError: division by zero"
      ],
      "metadata": {
        "colab": {
          "base_uri": "https://localhost:8080/"
        },
        "id": "sxp2m_Ht04jG",
        "outputId": "3774a12c-1e9a-4e2b-9002-e18b3541ab72"
      },
      "execution_count": 34,
      "outputs": [
        {
          "output_type": "execute_result",
          "data": {
            "text/plain": [
              "0"
            ]
          },
          "metadata": {},
          "execution_count": 34
        }
      ]
    }
  ]
}