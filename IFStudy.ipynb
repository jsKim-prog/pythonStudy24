{
  "nbformat": 4,
  "nbformat_minor": 0,
  "metadata": {
    "colab": {
      "provenance": [],
      "authorship_tag": "ABX9TyMOq1Dta27dLSfHQ/TuWkMd",
      "include_colab_link": true
    },
    "kernelspec": {
      "name": "python3",
      "display_name": "Python 3"
    },
    "language_info": {
      "name": "python"
    }
  },
  "cells": [
    {
      "cell_type": "markdown",
      "metadata": {
        "id": "view-in-github",
        "colab_type": "text"
      },
      "source": [
        "<a href=\"https://colab.research.google.com/github/jsKim-prog/pythonStudy24/blob/master/IFStudy.ipynb\" target=\"_parent\"><img src=\"https://colab.research.google.com/assets/colab-badge.svg\" alt=\"Open In Colab\"/></a>"
      ]
    },
    {
      "cell_type": "markdown",
      "source": [
        "### ❓ 프로그램의 판단을 할 수 있는 조건문인 if를 사용해 본다.\n",
        "* if문은 만약에 라는 의미를 가지고 있고 결과는 참, 거짓으로 판단한다."
      ],
      "metadata": {
        "id": "KCLrPEV-nw9W"
      }
    },
    {
      "cell_type": "code",
      "execution_count": 4,
      "metadata": {
        "colab": {
          "base_uri": "https://localhost:8080/"
        },
        "id": "X3pMeP6PnjV5",
        "outputId": "fdec39fa-013e-45e8-82ca-925e4636ff2b"
      },
      "outputs": [
        {
          "output_type": "stream",
          "name": "stdout",
          "text": [
            "======================\n",
            "걸어가라\n",
            "======================\n"
          ]
        }
      ],
      "source": [
        "# 돈이 있으면 택시를 타고 가고, 돈이 없으면 걸어간다.\n",
        "money = False # 돈이 있으면\n",
        "if money: # 파이썬에는 {}이 없기 때문에  : 으로 구문을 내린다.\n",
        "    print(\"택시를 타고 가라\") # True일 때 처리(하위 처리를 위해 띄어쓰기 4번 진행)\n",
        "    print(\"모범택시는 비싸니 다음 택시를 기다려라\")\n",
        "    print(\"택시가 안보이면 카카오 택시를 불러라\")\n",
        "else:                         #False 일 때 처리\n",
        "    print(\"======================\")\n",
        "    print(\"걸어가라\")         #False용 명령\n",
        "    print(\"======================\")"
      ]
    },
    {
      "cell_type": "code",
      "source": [
        "money = 2000\n",
        "if money >=3000:                # if 뒤에 써지는 문장이 조건이 됨 :\n",
        "    print(\"택시를 타고 가라\")   # True\n",
        "else:\n",
        "    print(\"걸어가라\")           # False"
      ],
      "metadata": {
        "colab": {
          "base_uri": "https://localhost:8080/"
        },
        "id": "iyqYHOPludVZ",
        "outputId": "bdd7e936-0d58-4923-a932-7180a54e7948"
      },
      "execution_count": 5,
      "outputs": [
        {
          "output_type": "stream",
          "name": "stdout",
          "text": [
            "걸어가라\n"
          ]
        }
      ]
    },
    {
      "cell_type": "code",
      "source": [
        "# x or y -> 또는 (둘 중 하나만 참이어도 참)\n",
        "# x and y -> 이고 (둘다 참이어야 참)\n",
        "# not x -> x가 아니면 참(거짓, 반전)\n",
        "\n",
        "# 돈이 3000원 이상 있거나 카드가 있다면 택시를 타고가고, 아니면 걸어가라\n",
        "money = 2000\n",
        "card = True\n",
        "\n",
        "if money >= 3000 or card :\n",
        "    print(\"택시를 타고 가라\")   # True\n",
        "else:\n",
        "    print(\"걸어가라\")\n",
        "\n",
        "# or 연산 진리표\n",
        "# money   or   card     = 결과\n",
        "#  0            0       =  0\n",
        "#  1            0       =  1\n",
        "#  0            1       =  1\n",
        "#  1            1       =  1"
      ],
      "metadata": {
        "colab": {
          "base_uri": "https://localhost:8080/"
        },
        "id": "cejbs-oWwbfp",
        "outputId": "950a3332-4a76-4c39-82ca-df9ece469b30"
      },
      "execution_count": 6,
      "outputs": [
        {
          "output_type": "stream",
          "name": "stdout",
          "text": [
            "택시를 타고 가라\n"
          ]
        }
      ]
    },
    {
      "cell_type": "code",
      "source": [
        "# in, not in\n",
        "# x in 리스트, x not in 리스트\n",
        "# x in 튜플, x not in 튜플\n",
        "# x in 문자열, x not in 문자열\n",
        "\n",
        "1 not in [1, 2, 3] #리스트"
      ],
      "metadata": {
        "colab": {
          "base_uri": "https://localhost:8080/"
        },
        "id": "WWl2YYhuy8Pr",
        "outputId": "b9160186-0798-4a6d-ba7b-a70565415c05"
      },
      "execution_count": 8,
      "outputs": [
        {
          "output_type": "execute_result",
          "data": {
            "text/plain": [
              "False"
            ]
          },
          "metadata": {},
          "execution_count": 8
        }
      ]
    },
    {
      "cell_type": "code",
      "source": [
        "'a' in ('a', 'b', 'c') # 튜플"
      ],
      "metadata": {
        "colab": {
          "base_uri": "https://localhost:8080/"
        },
        "id": "UXvlxUfszn-5",
        "outputId": "41030cf1-d68e-456e-a397-a13e20ba53c9"
      },
      "execution_count": 9,
      "outputs": [
        {
          "output_type": "execute_result",
          "data": {
            "text/plain": [
              "True"
            ]
          },
          "metadata": {},
          "execution_count": 9
        }
      ]
    },
    {
      "cell_type": "code",
      "source": [
        "'j' not in 'python'"
      ],
      "metadata": {
        "colab": {
          "base_uri": "https://localhost:8080/"
        },
        "id": "YlBvASolz18J",
        "outputId": "72d8bd9e-13d7-44b1-cf87-d17451db6e79"
      },
      "execution_count": 10,
      "outputs": [
        {
          "output_type": "execute_result",
          "data": {
            "text/plain": [
              "True"
            ]
          },
          "metadata": {},
          "execution_count": 10
        }
      ]
    },
    {
      "cell_type": "code",
      "source": [
        "# 만약 주머니에 돈이 있으면 택시를 타고 가고, 없으면 걸어가라\n",
        "pocket = ['paper', 'cellphone', 'money']\n",
        "\n",
        "if 'money' in pocket:\n",
        "    print(\"택시를 타고 가라\")\n",
        "else:\n",
        "    print(\"걸어가라\")"
      ],
      "metadata": {
        "colab": {
          "base_uri": "https://localhost:8080/"
        },
        "id": "DfjzPeYt0WgR",
        "outputId": "0c089522-8143-4de2-94c0-c30de514d6e4"
      },
      "execution_count": 11,
      "outputs": [
        {
          "output_type": "stream",
          "name": "stdout",
          "text": [
            "택시를 타고 가라\n"
          ]
        }
      ]
    },
    {
      "cell_type": "code",
      "source": [
        "# 조건문에서 아무 일도 하지 않게 설정하고 싶을 때 : pass\n",
        "# 조건문의 참, 거짓에 따라 실행할 행동을 정의할 때나 아무런 일도 하지 않도록 설정하고 싶을 때\n",
        "\n",
        "# 주머니에 돈이 있으면 가만히 있고, 주머니에 돈이 없으면 카드를 꺼내라.\n",
        "\n",
        "pocket = ['paper', 'smartphone', 'card']\n",
        "if 'money' in pocket:\n",
        "    pass                # skip과 같은 의미\n",
        "else:\n",
        "    print(\"카드를 꺼내라\")"
      ],
      "metadata": {
        "colab": {
          "base_uri": "https://localhost:8080/"
        },
        "id": "OgvKcD1J3N5A",
        "outputId": "2653b72a-6059-4832-d1f5-853c2c795f3d"
      },
      "execution_count": 15,
      "outputs": [
        {
          "output_type": "stream",
          "name": "stdout",
          "text": [
            "카드를 꺼내라\n"
          ]
        }
      ]
    },
    {
      "cell_type": "code",
      "source": [
        "# elif 는 if문 아래쪽에 한번 더 비교하는 조건문 (elif의 사용회수는 무제한)\n",
        "\n",
        "# 주머니에 돈이 있으면 택시를 타고가고,\n",
        "# 주머니에 돈은 없지만 카드가 있으면 택시를 타고가고,\n",
        "# 주머니에 돈도 없고 카드도 없으면 걸어가라\n",
        "\n",
        "pocket = ['paper', 'smartphone']\n",
        "card = True\n",
        "\n",
        "if 'money' in pocket:\n",
        "    print(\"택시를 타고 가라\")\n",
        "elif card:\n",
        "    print(\"택시를 타고 가라\")\n",
        "else:\n",
        "    print(\"걸어가라\")"
      ],
      "metadata": {
        "colab": {
          "base_uri": "https://localhost:8080/"
        },
        "id": "KGK-TlaB7S2t",
        "outputId": "bedca6a0-0726-445d-d551-af49c765e470"
      },
      "execution_count": 16,
      "outputs": [
        {
          "output_type": "stream",
          "name": "stdout",
          "text": [
            "택시를 타고 가라\n"
          ]
        }
      ]
    },
    {
      "cell_type": "code",
      "source": [
        "# 패션코딩 -> 최대한 간결하게 코딩하는 기법\n",
        "\n",
        "pocket = ['paper', 'smartphone']\n",
        "card = True\n",
        "\n",
        "if 'money' in pocket: print(\"택시를 타고 가라\")\n",
        "elif card: print(\"택시를 타고 가라\")\n",
        "else: print(\"걸어가라\")"
      ],
      "metadata": {
        "colab": {
          "base_uri": "https://localhost:8080/"
        },
        "id": "5KRTvdT9-6ZP",
        "outputId": "c6baae04-8883-43dd-d22b-8b00b99d534f"
      },
      "execution_count": 17,
      "outputs": [
        {
          "output_type": "stream",
          "name": "stdout",
          "text": [
            "택시를 타고 가라\n"
          ]
        }
      ]
    },
    {
      "cell_type": "code",
      "source": [
        "# 시험 점수가 60점 이상이면 success, 아니면 failure 를 변수에 담아 출력해보자.\n",
        "\n",
        "score = 88\n",
        "if score >=60:\n",
        "    message = \"success\"\n",
        "else:\n",
        "    message = \"failure\"\n",
        "print(message)"
      ],
      "metadata": {
        "colab": {
          "base_uri": "https://localhost:8080/"
        },
        "id": "OoOJhOSw_Rf5",
        "outputId": "b5e3eb62-dc10-49ec-b89d-28a9ac47fad8"
      },
      "execution_count": 18,
      "outputs": [
        {
          "output_type": "stream",
          "name": "stdout",
          "text": [
            "success\n"
          ]
        }
      ]
    },
    {
      "cell_type": "code",
      "source": [
        "# 파이썬의 조건부 표현식\n",
        "# 변수 = 참인경우의값 if 조건문 else 거짓인경우의값\n",
        "message = \"success\" if score >= 60 else \"failure\"\n",
        "print(message)"
      ],
      "metadata": {
        "colab": {
          "base_uri": "https://localhost:8080/"
        },
        "id": "dhywH6Ik_3Y7",
        "outputId": "047ef8e9-e5d0-4302-b30a-8a086766d8dd"
      },
      "execution_count": 19,
      "outputs": [
        {
          "output_type": "stream",
          "name": "stdout",
          "text": [
            "success\n"
          ]
        }
      ]
    },
    {
      "cell_type": "code",
      "source": [
        "# 미션\n",
        "# 성적처리용 코드 작성 A 등급 ~ F 등급까지 출력\n",
        "\n",
        "# 미션_ver.1\n",
        "score = input(\"점수를 입력하세요.\")\n",
        "\n",
        "calScore = int(score)\n",
        "\n",
        "if calScore >=90 :\n",
        "    grade = 'A'\n",
        "    message = \"참 잘했어요!!!\"\n",
        "elif calScore>=80:\n",
        "    grade = 'B'\n",
        "    message = \"아까워요~~~!!\"\n",
        "elif calScore>=70:\n",
        "    grade='C'\n",
        "    message = \"부족합니다~~!!\"\n",
        "elif calScore>=60:\n",
        "    grade='D'\n",
        "    message = \"공부하세요~~!!!\"\n",
        "else:\n",
        "    grade='F'\n",
        "    message = \"놀았어요???\"\n",
        "\n",
        "result = f'당신은 {grade} 등급입니다. \\n{message}'\n",
        "print(result)"
      ],
      "metadata": {
        "colab": {
          "base_uri": "https://localhost:8080/"
        },
        "id": "CB36Vi1LA6cL",
        "outputId": "24a12f59-af2a-44e9-8ad4-5ff0cfee81ca"
      },
      "execution_count": 26,
      "outputs": [
        {
          "output_type": "stream",
          "name": "stdout",
          "text": [
            "점수를 입력하세요.20\n",
            "당신은 F 등급입니다. \n",
            "놀았어요???\n"
          ]
        }
      ]
    },
    {
      "cell_type": "code",
      "source": [
        "# 미션 _ ver.2\n",
        "name = input(\"이름 : \")\n",
        "\n",
        "kor = int(input(\"국어점수 : \"))\n",
        "eng = int(input(\"영어점수 : \"))\n",
        "math = int(input(\"수학점수 : \"))\n",
        "\n",
        "total = sum([kor, eng, math])\n",
        "avgScore = total//3\n",
        "\n",
        "if avgScore >=90 :\n",
        "    grade = 'A'\n",
        "    message = \"참 잘했어요!!!\"\n",
        "elif avgScore>=80:\n",
        "    grade = 'B'\n",
        "    message = \"아까워요~~~!!\"\n",
        "elif avgScore>=70:\n",
        "    grade='C'\n",
        "    message = \"부족합니다~~!!\"\n",
        "elif avgScore>=60:\n",
        "    grade='D'\n",
        "    message = \"공부하세요~~!!!\"\n",
        "else:\n",
        "    grade='F'\n",
        "    message = \"놀았어요???\"\n",
        "\n",
        "result = f'총점 : {total}\\n평균:{avgScore}\\n당신은 {grade} 등급입니다. \\n{message}'\n",
        "print(\"==============\")\n",
        "print(result)"
      ],
      "metadata": {
        "colab": {
          "base_uri": "https://localhost:8080/"
        },
        "id": "87sQhyZ7E--C",
        "outputId": "37ebe8e1-d73d-4739-f536-c5b2f0dc375b"
      },
      "execution_count": 37,
      "outputs": [
        {
          "output_type": "stream",
          "name": "stdout",
          "text": [
            "이름 : 김지선\n",
            "국어점수 : 98\n",
            "영어점수 : 64\n",
            "수학점수 : 55\n",
            "==============\n",
            "총점 : 217\n",
            "평균:72\n",
            "당신은 C 등급입니다. \n",
            "부족합니다~~!!\n"
          ]
        }
      ]
    }
  ]
}