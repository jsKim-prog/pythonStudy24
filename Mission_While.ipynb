{
  "nbformat": 4,
  "nbformat_minor": 0,
  "metadata": {
    "colab": {
      "provenance": [],
      "authorship_tag": "ABX9TyOZ6AX/u4Acv7UmAzhxJZCN",
      "include_colab_link": true
    },
    "kernelspec": {
      "name": "python3",
      "display_name": "Python 3"
    },
    "language_info": {
      "name": "python"
    }
  },
  "cells": [
    {
      "cell_type": "markdown",
      "metadata": {
        "id": "view-in-github",
        "colab_type": "text"
      },
      "source": [
        "<a href=\"https://colab.research.google.com/github/jsKim-prog/pythonStudy24/blob/master/Mission_While.ipynb\" target=\"_parent\"><img src=\"https://colab.research.google.com/assets/colab-badge.svg\" alt=\"Open In Colab\"/></a>"
      ]
    },
    {
      "cell_type": "markdown",
      "source": [
        "## 미션\n",
        "* 관리자가 커피 가격과 커피명을 정하고 개수를 입력한다.\n",
        "* 소비자가 커피를 구매하는데 잔돈이 나와야 함\n",
        "* 판매 종료 후 관리자가 커피 판매한 총액을 파악해야 함"
      ],
      "metadata": {
        "id": "r8mgegRuV4LV"
      }
    },
    {
      "cell_type": "code",
      "execution_count": 6,
      "metadata": {
        "id": "2dijCDN-VuSF",
        "colab": {
          "base_uri": "https://localhost:8080/"
        },
        "outputId": "75e99a9d-d7d0-42f2-d99d-ee2ed3fbc0f3"
      },
      "outputs": [
        {
          "output_type": "stream",
          "name": "stdout",
          "text": [
            "[{'no': 1, 'name': '밀크커피', 'price': 500, 'srock': 0}, {'no': 2, 'name': '블랙커피', 'price': 300, 'srock': 0}, {'no': 3, 'name': '우유', 'price': 400, 'srock': 0}, {'no': 4, 'name': '아메리카노', 'price': 1500, 'srock': 0}, {'no': 5, 'name': '카페라떼', 'price': 2000, 'srock': 0}]\n"
          ]
        }
      ],
      "source": [
        "#전원 ON(시스템 시작)-> 커피 채우기(관리자 모드)->완료->자판기 모드-> 종료(관리자모드)\n",
        "# 관리자인지 파악-> 아이디/패스워드\n",
        "#변수 정의부\n",
        "\n",
        "admin = {'id':'admin', 'pw': 'admin'} #관리자 계정\n",
        "ids=[1, 2, 3, 4, 5]\n",
        "names = ['밀크커피', '블랙커피', '우유', '아메리카노', '카페라떼']\n",
        "prices = [500, 300, 400, 1500, 2000]\n",
        "stocks = [0, 0, 0, 0, 0]\n",
        "#상품리스트 -> 딕셔너리 배열(리스트용)\n",
        "coffees = [{'no':ids[0],\n",
        "            'name': names[0],\n",
        "            'price':prices[0],\n",
        "            'srock':stocks[0]},\n",
        "           {'no':ids[1],\n",
        "            'name':names[1],\n",
        "            'price':prices[1],\n",
        "            'srock':stocks[1]},\n",
        "           {'no':ids[2],\n",
        "            'name':names[2],\n",
        "            'price':prices[2],\n",
        "            'srock':stocks[2]},\n",
        "           {'no':ids[3],\n",
        "            'name':names[3],\n",
        "            'price':prices[3],\n",
        "            'srock':stocks[3]},\n",
        "           {'no':ids[4],\n",
        "            'name':names[4],\n",
        "            'price':prices[4],\n",
        "            'srock':stocks[4]}]\n",
        "\n",
        "intro =\"\"\"\n",
        "============================\n",
        "Coffee Time ~~관리자 모드\n",
        "============================\n",
        "1. 자판기 셋팅\n",
        "2. 종료\n",
        "============================\n",
        "\"\"\"\n",
        "\n",
        "promAdminList = \"\"\"\n",
        "=================================\n",
        "Coffee Time ~~관리자 모드\n",
        "=================================\n",
        "번호    종류     금액     재고\n",
        "=================================\n",
        "\"\"\"\n",
        "\n",
        "promUserList = \"\"\"\n",
        "======================\n",
        "Coffee Time\n",
        "======================\n",
        "번호    종류     금액\n",
        "======================\n",
        "\"\"\"\n",
        "\n",
        "promSave = \"\"\"\n",
        "저장하시겠습니까?\n",
        "Yes : 1 / No : 2 / 종료 : 0\n",
        "\"\"\"\n",
        "promEnd = \"\"\"\n",
        "입력을 중지하시겠습니까?\n",
        "Yes : 1 / No : 2\n",
        "\"\"\"\n",
        "promAdminSel=\"\"\"\n",
        "1. 재고 채우기\n",
        "2. 상품변경\n",
        "3. 금액변경\n",
        "4. 종료\n",
        "\"\"\"\n",
        "\n",
        "print(coffees)\n"
      ]
    },
    {
      "cell_type": "code",
      "source": [
        "# 계산용 함수\n",
        "# 관리자 아이디/패스워드 검증\n",
        "def valAdmin(id, pw):\n",
        "    result = True if id == admin.get('id') and pw == admin.get('pw') else False\n",
        "    return result\n",
        "\n",
        "# 재고수량 검증\n",
        "def valStock(indexNum):\n",
        "    if stocks[indexNum] == 0 :\n",
        "        print(\"커피가 떨어졌습니다. 관리자에게 문의하세요.\")\n",
        "        return False\n",
        "    else:\n",
        "        return True\n",
        "\n",
        "\n",
        "# 상품수량 입력(전체)\n",
        "def insertStock():\n",
        "    for name in names:\n",
        "\n",
        "        stockNum = int(input(\"{name} 수량 : \"))\n",
        ""
      ],
      "metadata": {
        "id": "RuoGAXd0b-OM"
      },
      "execution_count": 4,
      "outputs": []
    },
    {
      "cell_type": "code",
      "source": [
        "#자판기 프로그램 실행부 1 : 전원On-> 관리자 세팅\n",
        "introStart = False\n",
        "adminStart = False\n",
        "userStart = False\n",
        "def coffeeStart(introStart):\n",
        "    while introStart :\n",
        "        print(intro)\n",
        "        num1 = int(input(\"Enter Number>>> \"))\n",
        "        if num1 == 2:\n",
        "            print(\"자판기를 종료합니다. 안녕히 가세요.\")\n",
        "            introStart == False\n",
        "        elif num1 == 1:\n",
        "            inputID = input(\"아이디 : \")\n",
        "            inputPW = input(\"패스워드 : \")\n",
        "            if valAdmin(inputID, inputPW):\n",
        "                adminMode(True)\n",
        "                introStart= False\n",
        "            else :\n",
        "                print(\"계정확인 필요\")\n",
        "        else:\n",
        "            print(\"잘못된 입력입니다. 다시 입력해 주세요.\")\n",
        "\n",
        "# 관리자 모드 실행\n",
        "def adminMode(adminStart):\n",
        "    while adminStart :\n",
        "        print(promAdminList)\n",
        "        for coffee in coffees:\n",
        "            print(\"%d      %s      %d      %d\"% (coffee.get('no'),coffee.get('name'), coffee.get('price'), coffee.get('stock')))\n",
        "        print(\"=================================\")\n",
        "        print(promAdminSel)\n",
        "        num2 = int(input(\"Enter Number>>> \"))\n",
        "        match num2:\n",
        "                case 1 :\n",
        "                    print(\"재고 채우기\")\n",
        "                case 2 : print(\"상품변경\")\n",
        "                case 3 : print(\"금액변경\")\n",
        "                case 4 : adminStart=False\n",
        "                case _ : print(\"잘못된 입력입니다. 다시 입력해 주세요.\")\n",
        "\n",
        "# 사용자 모드 실행\n",
        "def userMode(userStart) :\n",
        "    while userStart:\n",
        "        print(promUserList)\n",
        "        for coffee in coffees:\n",
        "            print(\"%d      %s      %d\"% (coffee.get('no'),coffee.get('name'), coffee.get('price')))\n",
        "        print(\"======================\")\n",
        "        numUser = int(input(\"커피 번호를 입력하세요.>>>\"))\n",
        "        indexNum = numUser-1\n",
        "        if valStock(indexNum):\n",
        "            userCoffee = coffees[indexNum].items()\n",
        "            print(\"%s를 선택하셨습니다. %d 원을 넣어주세요.\"%(userCoffee.get('name'), userCoffee.get('price')))\n",
        "            #금액받고 커피주기\n",
        "            coffeeStart = True\n",
        "            while coffeeStart:\n",
        "                money = int(input(\"Enter Price>>> \"))\n",
        "                total = prices[indexNum]\n",
        "                stock = stocks[indexNum]\n",
        "                if money > total:\n",
        "                    print(\"%s 가 나옵니다~~ 즐거운 시간 되세요.\"% userCoffee.get('name'))\n",
        "                    print(\"거스름돈 받아가세요 : %d 원\" % (money-total))\n",
        "                    stocks[indexNum] = stock - 1 # 수량 제거\n",
        "                    coffeeStart = False\n",
        "                elif money == total:\n",
        "                    print(\"%s 가 나옵니다~~ 즐거운 시간 되세요.\"% userCoffee.get('name'))\n",
        "                    stocks[indexNum] = stock - 1 # 수량 제거\n",
        "                    coffeeStart = False\n",
        "                else:\n",
        "                    insertMoney = insertMoney+money\n",
        "                    result = total-insertMoney\n",
        "                    print(\"%d 원 더 투입해 주세요.\" % result)\n",
        "        else:\n",
        "            userStart==False\n",
        "            adminMode(True)\n",
        "\n",
        "\n",
        "\n",
        "\n",
        "\n",
        "\n",
        "\n",
        "\n"
      ],
      "metadata": {
        "id": "IJfAN-vSWESr"
      },
      "execution_count": 2,
      "outputs": []
    },
    {
      "cell_type": "code",
      "source": [
        "coffeeStart(True)"
      ],
      "metadata": {
        "id": "IvGxj1iCcc5C",
        "colab": {
          "base_uri": "https://localhost:8080/",
          "height": 630
        },
        "outputId": "a8ce70dc-69aa-453c-fa83-636145e0c346"
      },
      "execution_count": 5,
      "outputs": [
        {
          "output_type": "stream",
          "name": "stdout",
          "text": [
            "\n",
            "============================\n",
            "Coffee Time ~~관리자 모드\n",
            "============================\n",
            "1. 자판기 셋팅\n",
            "2. 종료\n",
            "============================\n",
            "\n",
            "Enter Number>>> 1\n",
            "아이디 : admin\n",
            "패스워드 : admin\n",
            "\n",
            "=================================\n",
            "Coffee Time ~~관리자 모드\n",
            "=================================\n",
            "번호    종류     금액     재고\n",
            "=================================\n",
            "\n"
          ]
        },
        {
          "output_type": "error",
          "ename": "TypeError",
          "evalue": "%d format: a real number is required, not NoneType",
          "traceback": [
            "\u001b[0;31m---------------------------------------------------------------------------\u001b[0m",
            "\u001b[0;31mTypeError\u001b[0m                                 Traceback (most recent call last)",
            "\u001b[0;32m<ipython-input-5-093e43aa64ed>\u001b[0m in \u001b[0;36m<cell line: 1>\u001b[0;34m()\u001b[0m\n\u001b[0;32m----> 1\u001b[0;31m \u001b[0mcoffeeStart\u001b[0m\u001b[0;34m(\u001b[0m\u001b[0;32mTrue\u001b[0m\u001b[0;34m)\u001b[0m\u001b[0;34m\u001b[0m\u001b[0;34m\u001b[0m\u001b[0m\n\u001b[0m",
            "\u001b[0;32m<ipython-input-2-76f5a5256dc8>\u001b[0m in \u001b[0;36mcoffeeStart\u001b[0;34m(introStart)\u001b[0m\n\u001b[1;32m     14\u001b[0m             \u001b[0minputPW\u001b[0m \u001b[0;34m=\u001b[0m \u001b[0minput\u001b[0m\u001b[0;34m(\u001b[0m\u001b[0;34m\"패스워드 : \"\u001b[0m\u001b[0;34m)\u001b[0m\u001b[0;34m\u001b[0m\u001b[0;34m\u001b[0m\u001b[0m\n\u001b[1;32m     15\u001b[0m             \u001b[0;32mif\u001b[0m \u001b[0mvalAdmin\u001b[0m\u001b[0;34m(\u001b[0m\u001b[0minputID\u001b[0m\u001b[0;34m,\u001b[0m \u001b[0minputPW\u001b[0m\u001b[0;34m)\u001b[0m\u001b[0;34m:\u001b[0m\u001b[0;34m\u001b[0m\u001b[0;34m\u001b[0m\u001b[0m\n\u001b[0;32m---> 16\u001b[0;31m                 \u001b[0madminMode\u001b[0m\u001b[0;34m(\u001b[0m\u001b[0;32mTrue\u001b[0m\u001b[0;34m)\u001b[0m\u001b[0;34m\u001b[0m\u001b[0;34m\u001b[0m\u001b[0m\n\u001b[0m\u001b[1;32m     17\u001b[0m                 \u001b[0mintroStart\u001b[0m\u001b[0;34m=\u001b[0m \u001b[0;32mFalse\u001b[0m\u001b[0;34m\u001b[0m\u001b[0;34m\u001b[0m\u001b[0m\n\u001b[1;32m     18\u001b[0m             \u001b[0;32melse\u001b[0m \u001b[0;34m:\u001b[0m\u001b[0;34m\u001b[0m\u001b[0;34m\u001b[0m\u001b[0m\n",
            "\u001b[0;32m<ipython-input-2-76f5a5256dc8>\u001b[0m in \u001b[0;36madminMode\u001b[0;34m(adminStart)\u001b[0m\n\u001b[1;32m     26\u001b[0m         \u001b[0mprint\u001b[0m\u001b[0;34m(\u001b[0m\u001b[0mpromAdminList\u001b[0m\u001b[0;34m)\u001b[0m\u001b[0;34m\u001b[0m\u001b[0;34m\u001b[0m\u001b[0m\n\u001b[1;32m     27\u001b[0m         \u001b[0;32mfor\u001b[0m \u001b[0mcoffee\u001b[0m \u001b[0;32min\u001b[0m \u001b[0mcoffees\u001b[0m\u001b[0;34m:\u001b[0m\u001b[0;34m\u001b[0m\u001b[0;34m\u001b[0m\u001b[0m\n\u001b[0;32m---> 28\u001b[0;31m             \u001b[0mprint\u001b[0m\u001b[0;34m(\u001b[0m\u001b[0;34m\"%d      %s      %d      %d\"\u001b[0m\u001b[0;34m%\u001b[0m \u001b[0;34m(\u001b[0m\u001b[0mcoffee\u001b[0m\u001b[0;34m.\u001b[0m\u001b[0mget\u001b[0m\u001b[0;34m(\u001b[0m\u001b[0;34m'no'\u001b[0m\u001b[0;34m)\u001b[0m\u001b[0;34m,\u001b[0m\u001b[0mcoffee\u001b[0m\u001b[0;34m.\u001b[0m\u001b[0mget\u001b[0m\u001b[0;34m(\u001b[0m\u001b[0;34m'name'\u001b[0m\u001b[0;34m)\u001b[0m\u001b[0;34m,\u001b[0m \u001b[0mcoffee\u001b[0m\u001b[0;34m.\u001b[0m\u001b[0mget\u001b[0m\u001b[0;34m(\u001b[0m\u001b[0;34m'price'\u001b[0m\u001b[0;34m)\u001b[0m\u001b[0;34m,\u001b[0m \u001b[0mcoffee\u001b[0m\u001b[0;34m.\u001b[0m\u001b[0mget\u001b[0m\u001b[0;34m(\u001b[0m\u001b[0;34m'stock'\u001b[0m\u001b[0;34m)\u001b[0m\u001b[0;34m)\u001b[0m\u001b[0;34m)\u001b[0m\u001b[0;34m\u001b[0m\u001b[0;34m\u001b[0m\u001b[0m\n\u001b[0m\u001b[1;32m     29\u001b[0m         \u001b[0mprint\u001b[0m\u001b[0;34m(\u001b[0m\u001b[0;34m\"=================================\"\u001b[0m\u001b[0;34m)\u001b[0m\u001b[0;34m\u001b[0m\u001b[0;34m\u001b[0m\u001b[0m\n\u001b[1;32m     30\u001b[0m         \u001b[0mprint\u001b[0m\u001b[0;34m(\u001b[0m\u001b[0mpromAdminSel\u001b[0m\u001b[0;34m)\u001b[0m\u001b[0;34m\u001b[0m\u001b[0;34m\u001b[0m\u001b[0m\n",
            "\u001b[0;31mTypeError\u001b[0m: %d format: a real number is required, not NoneType"
          ]
        }
      ]
    }
  ]
}