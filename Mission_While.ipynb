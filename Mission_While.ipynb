{
  "nbformat": 4,
  "nbformat_minor": 0,
  "metadata": {
    "colab": {
      "provenance": [],
      "authorship_tag": "ABX9TyMl6r4wwmjY/LE/UC9MwlKW",
      "include_colab_link": true
    },
    "kernelspec": {
      "name": "python3",
      "display_name": "Python 3"
    },
    "language_info": {
      "name": "python"
    }
  },
  "cells": [
    {
      "cell_type": "markdown",
      "metadata": {
        "id": "view-in-github",
        "colab_type": "text"
      },
      "source": [
        "<a href=\"https://colab.research.google.com/github/jsKim-prog/pythonStudy24/blob/master/Mission_While.ipynb\" target=\"_parent\"><img src=\"https://colab.research.google.com/assets/colab-badge.svg\" alt=\"Open In Colab\"/></a>"
      ]
    },
    {
      "cell_type": "markdown",
      "source": [
        "## 미션\n",
        "* 관리자가 커피 가격과 커피명을 정하고 개수를 입력한다.\n",
        "* 소비자가 커피를 구매하는데 잔돈이 나와야 함\n",
        "* 판매 종료 후 관리자가 커피 판매한 총액을 파악해야 함"
      ],
      "metadata": {
        "id": "r8mgegRuV4LV"
      }
    },
    {
      "cell_type": "code",
      "execution_count": 37,
      "metadata": {
        "id": "2dijCDN-VuSF",
        "colab": {
          "base_uri": "https://localhost:8080/"
        },
        "outputId": "d5b2ea26-ad97-466a-ec1f-d57ceeadf2fb"
      },
      "outputs": [
        {
          "output_type": "stream",
          "name": "stdout",
          "text": [
            "[[1, '밀크커피', 500, 0], [2, '블랙커피', 300, 0], [3, '우유', 400, 0], [4, '아메리카노', 1500, 0], [5, '카페라떼', 2000, 0]]\n"
          ]
        }
      ],
      "source": [
        "#전원 ON(시스템 시작)-> 커피 채우기(관리자 모드)->완료->자판기 모드-> 종료(관리자모드)\n",
        "# 관리자인지 파악-> 아이디/패스워드\n",
        "#변수 정의부\n",
        "\n",
        "\n",
        "#ids=[1, 2, 3, 4, 5]\n",
        "#names = ['밀크커피', '블랙커피', '우유', '아메리카노', '카페라떼']\n",
        "#prices = [500, 300, 400, 1500, 2000]\n",
        "#stocks = [0, 0, 0, 0, 0]\n",
        "#상품리스트\n",
        "coffees = [[1,'밀크커피', 500, 0], [2,'블랙커피', 300, 0],[3,'우유', 400, 0], [4,'아메리카노', 1500, 0],[5,'카페라떼', 2000, 0]]\n",
        "admin = {'id':'admin', 'pw': 'admin'} #관리자 계정\n",
        "intro =\"\"\"\n",
        "============================\n",
        "Coffee Time ~~관리자 모드\n",
        "============================\n",
        "1. 자판기 셋팅\n",
        "2. 종료\n",
        "============================\n",
        "\"\"\"\n",
        "\n",
        "promAdminList = \"\"\"\n",
        "=================================\n",
        "Coffee Time ~~관리자 모드\n",
        "=================================\n",
        "번호    종류     금액     재고\n",
        "=================================\n",
        "\"\"\"\n",
        "\n",
        "promUserList = \"\"\"\n",
        "======================\n",
        "Coffee Time\n",
        "======================\n",
        "번호    종류     금액\n",
        "======================\n",
        "\"\"\"\n",
        "\n",
        "promSave = \"\"\"\n",
        "저장하시겠습니까?\n",
        "Yes : 1 / No : 2 / 종료 : 0\n",
        "\"\"\"\n",
        "promEnd = \"\"\"\n",
        "입력을 중지하시겠습니까?\n",
        "Yes : 1 / No : 2\n",
        "\"\"\"\n",
        "promAdminSel=\"\"\"\n",
        "1. 재고 채우기\n",
        "2. 상품변경\n",
        "3. 금액변경\n",
        "4. 종료\n",
        "\"\"\"\n",
        "\n",
        "print(coffees)\n"
      ]
    },
    {
      "cell_type": "code",
      "source": [
        "# 계산용 함수\n",
        "# 관리자 아이디/패스워드 검증\n",
        "def valAdmin(id, pw):\n",
        "    result = True if id == admin.get('id') and pw == admin.get('pw') else False\n",
        "    return result\n",
        "\n",
        "# 재고수량 검증\n",
        "def valStock(indexNum):\n",
        "    if coffees[indexNum][3] == 0 :\n",
        "        print(\"커피가 떨어졌습니다. 관리자에게 문의하세요.\")\n",
        "        return False\n",
        "    elif indexNum == 99:\n",
        "        return 'end'\n",
        "    else:\n",
        "        return True\n",
        "\n",
        "\n",
        ""
      ],
      "metadata": {
        "id": "RuoGAXd0b-OM"
      },
      "execution_count": 38,
      "outputs": []
    },
    {
      "cell_type": "code",
      "source": [
        "#자판기 프로그램 실행부 1 : 전원On-> 관리자 세팅\n",
        "introStart = False\n",
        "adminStart = False\n",
        "userStart = False\n",
        "endStart = False\n",
        "def coffeeStart(introStart):\n",
        "    while introStart :\n",
        "        print(intro)\n",
        "        num1 = int(input(\"Enter Number>>> \"))\n",
        "        if num1 == 2:\n",
        "            print(\"자판기를 종료합니다. 안녕히 가세요.\")\n",
        "            introStart == False\n",
        "        elif num1 == 1:\n",
        "            inputID = input(\"아이디 : \")\n",
        "            inputPW = input(\"패스워드 : \")\n",
        "            if valAdmin(inputID, inputPW):\n",
        "                adminMode(True)\n",
        "                introStart= False\n",
        "            else :\n",
        "                print(\"계정확인 필요\")\n",
        "        else:\n",
        "            print(\"잘못된 입력입니다. 다시 입력해 주세요.\")\n",
        "\n",
        "# 관리자 모드 실행\n",
        "def adminMode(adminStart):\n",
        "    while adminStart :\n",
        "        print(promAdminList)\n",
        "        for coffee in coffees:\n",
        "            print(\"%d      %s      %d      %d\"% (coffee[0],coffee[1], coffee[2], coffee[3]))\n",
        "        print(\"=================================\")\n",
        "        print(promAdminSel)\n",
        "        num2 = int(input(\"Enter Number>>> \"))\n",
        "        match num2:\n",
        "                case 1 :\n",
        "                    print(\"재고 채우기\")\n",
        "                    for coffee in coffees:\n",
        "                        print(\"%d. %s 수량입력 :\"% (coffee[0], coffee[1]))\n",
        "                        stockNum = int(input())\n",
        "                        coffee[3] = stockNum\n",
        "                    print(\"상품재고채우기가 완료되었습니다.\")\n",
        "                    continue\n",
        "                case 2 : print(\"상품변경\")\n",
        "                case 3 : print(\"금액변경\")\n",
        "                case 4 :\n",
        "                    print(\"사용자모드로 전환합니다.\")\n",
        "                    adminStart=False\n",
        "                    userMode(True)\n",
        "                case _ :\n",
        "                    print(\"잘못된 입력입니다. 다시 입력해 주세요.\")\n",
        "                    break\n",
        "\n",
        "# 사용자 모드 실행\n",
        "def userMode(userStart) :\n",
        "    while userStart:\n",
        "        print(promUserList)\n",
        "        for coffee in coffees:\n",
        "            print(\"%d      %s      %d\"% (coffee[0],coffee[1], coffee[2]))\n",
        "        print(\"======================\")\n",
        "        numUser = int(input(\"커피 번호를 입력하세요.>>>\"))\n",
        "        indexNum = numUser-1\n",
        "        if valStock(indexNum):\n",
        "            print(\"%s를 선택하셨습니다. %d 원을 넣어주세요.\"%(coffees[indexNum][1], coffees[indexNum][2]))\n",
        "            #금액받고 커피주기\n",
        "            coffeeStart = True\n",
        "            while coffeeStart:\n",
        "                money = int(input(\"Enter Price>>> \"))\n",
        "                total = coffees[indexNum][2]\n",
        "                stock = coffees[indexNum][3]\n",
        "                insertMoney = 0\n",
        "                if money > total:\n",
        "                    print(\"%s 가 나옵니다~~ 즐거운 시간 되세요.\"% coffees[indexNum][1])\n",
        "                    print(\"거스름돈 받아가세요 : %d 원\" % (money-total))\n",
        "                    coffees[indexNum][3] = stock - 1 # 수량 제거\n",
        "                    coffeeStart = False\n",
        "                elif money == total:\n",
        "                    print(\"%s 가 나옵니다~~ 즐거운 시간 되세요.\"% coffees[indexNum][1])\n",
        "                    coffees[indexNum][3] = stock - 1 # 수량 제거\n",
        "                    coffeeStart = False\n",
        "                else:\n",
        "                    insertMoney += money\n",
        "                    result = total-insertMoney\n",
        "                    print(\"%d 원 더 투입해 주세요.\" % result)\n",
        "        elif valStock(indexNum) == 'end':\n",
        "             userStart==False\n",
        "             #endMode(True)\n",
        "        else:\n",
        "            userStart==False\n",
        "            adminMode(True)\n",
        "\n",
        "\n",
        "\n",
        "\n",
        "\n",
        "\n",
        "\n",
        "\n"
      ],
      "metadata": {
        "id": "IJfAN-vSWESr"
      },
      "execution_count": 43,
      "outputs": []
    },
    {
      "cell_type": "code",
      "source": [
        "coffeeStart(True)"
      ],
      "metadata": {
        "id": "IvGxj1iCcc5C",
        "colab": {
          "base_uri": "https://localhost:8080/"
        },
        "outputId": "0100b9df-8300-4f54-8c8e-5329c3ec2d4f"
      },
      "execution_count": null,
      "outputs": [
        {
          "output_type": "stream",
          "name": "stdout",
          "text": [
            "\n",
            "============================\n",
            "Coffee Time ~~관리자 모드\n",
            "============================\n",
            "1. 자판기 셋팅\n",
            "2. 종료\n",
            "============================\n",
            "\n"
          ]
        }
      ]
    }
  ]
}
